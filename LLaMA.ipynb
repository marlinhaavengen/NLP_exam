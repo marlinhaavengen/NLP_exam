{
  "cells": [
    {
      "cell_type": "markdown",
      "source": [
        "# Natural Language Processing and Text Analytics Final Exam [KAN-CDSCO1002U]\n",
        "\n",
        "Afnan El-Segaier (137863)  \n",
        "Une Aspelin (152294)  \n",
        "Kristin Sundby (167303)  \n",
        "Marlin Haavengen (167342)\n",
        "\n",
        "\n",
        "\n",
        "---\n",
        "\n",
        "\n",
        "\n",
        "This notebook outlines the set-up of a **LLaMa Model** for quesion-answering, involving the following four steps:\n",
        "\n",
        "\n",
        "1.   Preparation and installment of necessary packages.\n",
        "2.   Sign-in to Huggingface (may require account creation).\n",
        "3.   Creation of LLaMA \"text-generation\" pipeline using Huggingface transformers.\n",
        "4.   Creation of a get_llama_response function."
      ],
      "metadata": {
        "id": "LOOeQgyiIr1D"
      }
    },
    {
      "cell_type": "markdown",
      "source": [
        "## SVM Model"
      ],
      "metadata": {
        "id": "_AaWw7q7KLAO"
      }
    },
    {
      "cell_type": "markdown",
      "metadata": {
        "id": "umV44ccsnIKl"
      },
      "source": [
        "###**Step 1: Install Necessary Packages**\n"
      ]
    },
    {
      "cell_type": "code",
      "execution_count": null,
      "metadata": {
        "colab": {
          "base_uri": "https://localhost:8080/"
        },
        "id": "8J0Xb91Wwc2R",
        "outputId": "b458e6c2-c41d-4277-88ef-ef32d33b8688",
        "collapsed": true
      },
      "outputs": [
        {
          "output_type": "stream",
          "name": "stdout",
          "text": [
            "Requirement already satisfied: transformers in /usr/local/lib/python3.10/dist-packages (4.41.0)\n",
            "Requirement already satisfied: torch in /usr/local/lib/python3.10/dist-packages (2.3.0+cu121)\n",
            "Requirement already satisfied: accelerate in /usr/local/lib/python3.10/dist-packages (0.30.1)\n",
            "Requirement already satisfied: filelock in /usr/local/lib/python3.10/dist-packages (from transformers) (3.14.0)\n",
            "Requirement already satisfied: huggingface-hub<1.0,>=0.23.0 in /usr/local/lib/python3.10/dist-packages (from transformers) (0.23.1)\n",
            "Requirement already satisfied: numpy>=1.17 in /usr/local/lib/python3.10/dist-packages (from transformers) (1.25.2)\n",
            "Requirement already satisfied: packaging>=20.0 in /usr/local/lib/python3.10/dist-packages (from transformers) (24.0)\n",
            "Requirement already satisfied: pyyaml>=5.1 in /usr/local/lib/python3.10/dist-packages (from transformers) (6.0.1)\n",
            "Requirement already satisfied: regex!=2019.12.17 in /usr/local/lib/python3.10/dist-packages (from transformers) (2023.12.25)\n",
            "Requirement already satisfied: requests in /usr/local/lib/python3.10/dist-packages (from transformers) (2.31.0)\n",
            "Requirement already satisfied: tokenizers<0.20,>=0.19 in /usr/local/lib/python3.10/dist-packages (from transformers) (0.19.1)\n",
            "Requirement already satisfied: safetensors>=0.4.1 in /usr/local/lib/python3.10/dist-packages (from transformers) (0.4.3)\n",
            "Requirement already satisfied: tqdm>=4.27 in /usr/local/lib/python3.10/dist-packages (from transformers) (4.66.4)\n",
            "Requirement already satisfied: typing-extensions>=4.8.0 in /usr/local/lib/python3.10/dist-packages (from torch) (4.11.0)\n",
            "Requirement already satisfied: sympy in /usr/local/lib/python3.10/dist-packages (from torch) (1.12)\n",
            "Requirement already satisfied: networkx in /usr/local/lib/python3.10/dist-packages (from torch) (3.3)\n",
            "Requirement already satisfied: jinja2 in /usr/local/lib/python3.10/dist-packages (from torch) (3.1.4)\n",
            "Requirement already satisfied: fsspec in /usr/local/lib/python3.10/dist-packages (from torch) (2023.6.0)\n",
            "Requirement already satisfied: nvidia-cuda-nvrtc-cu12==12.1.105 in /usr/local/lib/python3.10/dist-packages (from torch) (12.1.105)\n",
            "Requirement already satisfied: nvidia-cuda-runtime-cu12==12.1.105 in /usr/local/lib/python3.10/dist-packages (from torch) (12.1.105)\n",
            "Requirement already satisfied: nvidia-cuda-cupti-cu12==12.1.105 in /usr/local/lib/python3.10/dist-packages (from torch) (12.1.105)\n",
            "Requirement already satisfied: nvidia-cudnn-cu12==8.9.2.26 in /usr/local/lib/python3.10/dist-packages (from torch) (8.9.2.26)\n",
            "Requirement already satisfied: nvidia-cublas-cu12==12.1.3.1 in /usr/local/lib/python3.10/dist-packages (from torch) (12.1.3.1)\n",
            "Requirement already satisfied: nvidia-cufft-cu12==11.0.2.54 in /usr/local/lib/python3.10/dist-packages (from torch) (11.0.2.54)\n",
            "Requirement already satisfied: nvidia-curand-cu12==10.3.2.106 in /usr/local/lib/python3.10/dist-packages (from torch) (10.3.2.106)\n",
            "Requirement already satisfied: nvidia-cusolver-cu12==11.4.5.107 in /usr/local/lib/python3.10/dist-packages (from torch) (11.4.5.107)\n",
            "Requirement already satisfied: nvidia-cusparse-cu12==12.1.0.106 in /usr/local/lib/python3.10/dist-packages (from torch) (12.1.0.106)\n",
            "Requirement already satisfied: nvidia-nccl-cu12==2.20.5 in /usr/local/lib/python3.10/dist-packages (from torch) (2.20.5)\n",
            "Requirement already satisfied: nvidia-nvtx-cu12==12.1.105 in /usr/local/lib/python3.10/dist-packages (from torch) (12.1.105)\n",
            "Requirement already satisfied: triton==2.3.0 in /usr/local/lib/python3.10/dist-packages (from torch) (2.3.0)\n",
            "Requirement already satisfied: nvidia-nvjitlink-cu12 in /usr/local/lib/python3.10/dist-packages (from nvidia-cusolver-cu12==11.4.5.107->torch) (12.5.40)\n",
            "Requirement already satisfied: psutil in /usr/local/lib/python3.10/dist-packages (from accelerate) (5.9.5)\n",
            "Requirement already satisfied: MarkupSafe>=2.0 in /usr/local/lib/python3.10/dist-packages (from jinja2->torch) (2.1.5)\n",
            "Requirement already satisfied: charset-normalizer<4,>=2 in /usr/local/lib/python3.10/dist-packages (from requests->transformers) (3.3.2)\n",
            "Requirement already satisfied: idna<4,>=2.5 in /usr/local/lib/python3.10/dist-packages (from requests->transformers) (3.7)\n",
            "Requirement already satisfied: urllib3<3,>=1.21.1 in /usr/local/lib/python3.10/dist-packages (from requests->transformers) (2.0.7)\n",
            "Requirement already satisfied: certifi>=2017.4.17 in /usr/local/lib/python3.10/dist-packages (from requests->transformers) (2024.2.2)\n",
            "Requirement already satisfied: mpmath>=0.19 in /usr/local/lib/python3.10/dist-packages (from sympy->torch) (1.3.0)\n"
          ]
        }
      ],
      "source": [
        "!pip install transformers torch accelerate\n",
        "import torch\n",
        "from transformers import AutoTokenizer\n",
        "from transformers import pipeline"
      ]
    },
    {
      "cell_type": "markdown",
      "metadata": {
        "id": "CcChSt3JnSJ0"
      },
      "source": [
        "###**Step 2: Sign in to Huggingface**"
      ]
    },
    {
      "cell_type": "code",
      "execution_count": null,
      "metadata": {
        "colab": {
          "base_uri": "https://localhost:8080/"
        },
        "id": "5P8xCcKexYm6",
        "outputId": "0f6f0ead-7357-4d8d-e02f-9d52ff3a6d61"
      },
      "outputs": [
        {
          "output_type": "stream",
          "name": "stdout",
          "text": [
            "\n",
            "    _|    _|  _|    _|    _|_|_|    _|_|_|  _|_|_|  _|      _|    _|_|_|      _|_|_|_|    _|_|      _|_|_|  _|_|_|_|\n",
            "    _|    _|  _|    _|  _|        _|          _|    _|_|    _|  _|            _|        _|    _|  _|        _|\n",
            "    _|_|_|_|  _|    _|  _|  _|_|  _|  _|_|    _|    _|  _|  _|  _|  _|_|      _|_|_|    _|_|_|_|  _|        _|_|_|\n",
            "    _|    _|  _|    _|  _|    _|  _|    _|    _|    _|    _|_|  _|    _|      _|        _|    _|  _|        _|\n",
            "    _|    _|    _|_|      _|_|_|    _|_|_|  _|_|_|  _|      _|    _|_|_|      _|        _|    _|    _|_|_|  _|_|_|_|\n",
            "\n",
            "    A token is already saved on your machine. Run `huggingface-cli whoami` to get more information or `huggingface-cli logout` if you want to log out.\n",
            "    Setting a new token will erase the existing one.\n",
            "    To login, `huggingface_hub` requires a token generated from https://huggingface.co/settings/tokens .\n",
            "Enter your token (input will not be visible): \n",
            "Add token as git credential? (Y/n) n\n",
            "Token is valid (permission: read).\n",
            "Your token has been saved to /root/.cache/huggingface/token\n",
            "Login successful\n"
          ]
        }
      ],
      "source": [
        "!huggingface-cli login"
      ]
    },
    {
      "cell_type": "code",
      "execution_count": null,
      "metadata": {
        "colab": {
          "base_uri": "https://localhost:8080/"
        },
        "id": "d7ydWjdcxcQm",
        "outputId": "99dd8a6b-c748-4eea-a786-84f910af96b3"
      },
      "outputs": [
        {
          "output_type": "stream",
          "name": "stdout",
          "text": [
            "kristinsundby\n"
          ]
        }
      ],
      "source": [
        "# Verifying successful log-in:\n",
        "!huggingface-cli whoami"
      ]
    },
    {
      "cell_type": "markdown",
      "metadata": {
        "id": "ni-VogVknYMZ"
      },
      "source": [
        "###**Step 3: Creating LLaMA \"text-generation\" Pipeline**"
      ]
    },
    {
      "cell_type": "code",
      "execution_count": null,
      "metadata": {
        "colab": {
          "base_uri": "https://localhost:8080/"
        },
        "id": "K-xWFWpfyMVl",
        "outputId": "52bf461c-9dba-4a17-de62-48b4666c250b",
        "collapsed": true
      },
      "outputs": [
        {
          "output_type": "stream",
          "name": "stderr",
          "text": [
            "/usr/local/lib/python3.10/dist-packages/transformers/models/auto/tokenization_auto.py:769: FutureWarning: The `use_auth_token` argument is deprecated and will be removed in v5 of Transformers. Please use `token` instead.\n",
            "  warnings.warn(\n",
            "/usr/local/lib/python3.10/dist-packages/huggingface_hub/utils/_token.py:89: UserWarning: \n",
            "The secret `HF_TOKEN` does not exist in your Colab secrets.\n",
            "To authenticate with the Hugging Face Hub, create a token in your settings tab (https://huggingface.co/settings/tokens), set it as secret in your Google Colab and restart your session.\n",
            "You will be able to reuse this secret in all of your notebooks.\n",
            "Please note that authentication is recommended but still optional to access public models or datasets.\n",
            "  warnings.warn(\n"
          ]
        }
      ],
      "source": [
        "# Setting the random seed for PyTorch to 42, to ensure reproducibility:\n",
        "torch.manual_seed(42)\n",
        "\n",
        "# Defining model name for the LLaMA:\n",
        "model = \"meta-llama/Llama-2-7b-chat-hf\"\n",
        "\n",
        "# Initializing the LLaMA tokenizer using the AutoTokenizer class from Hugging Face:\n",
        "tokenizer = AutoTokenizer.from_pretrained(model, use_auth_token=True) # The use_auth_token=True parameter indicates that an authentication token is required to access the model."
      ]
    },
    {
      "cell_type": "code",
      "execution_count": null,
      "metadata": {
        "colab": {
          "base_uri": "https://localhost:8080/",
          "height": 49,
          "referenced_widgets": [
            "309683f6a9b94541902920babab9aaba",
            "4a0745e077c84063bbbe9f9278ad0d5d",
            "dc79660b73ff4fe08687c12a5320616a",
            "3ef84bba962c4fbd94ff9781bb950f4d",
            "045f168c20e647f1b1a611848f22e125",
            "83a6d11908074674b35ae25519a507e9",
            "000c357ba46d4bfcbbda13da7c7a23f7",
            "656967100a094a339d4f14da5f9bff38",
            "7b8d70038839464e9798fa19dff80243",
            "cefc05a721b34eafb279a2eb5aad504c",
            "379e8f725c5049739429fc2342e0abc6"
          ]
        },
        "id": "s101UxZU1Kh8",
        "outputId": "795cd817-b9e4-401f-d8c8-fec1751c7715"
      },
      "outputs": [
        {
          "output_type": "display_data",
          "data": {
            "text/plain": [
              "Loading checkpoint shards:   0%|          | 0/2 [00:00<?, ?it/s]"
            ],
            "application/vnd.jupyter.widget-view+json": {
              "version_major": 2,
              "version_minor": 0,
              "model_id": "309683f6a9b94541902920babab9aaba"
            }
          },
          "metadata": {}
        }
      ],
      "source": [
        "# Using the pipeline function from Hugging Face to create a LLaMA pipeline for text generation:\n",
        "llama_pipeline = pipeline(\n",
        "    \"text-generation\", # Specifying text generation as the task.\n",
        "    model=model, # Using the LLaMA model specified earlier.\n",
        "    torch_dtype=torch.float16, # Optional - torch data type specified as float16 for reduced memory usage.\n",
        "    device_map=\"auto\", # This automatically assign the model to the available device (e.g., GPU or CPU).\n",
        ")"
      ]
    },
    {
      "cell_type": "markdown",
      "metadata": {
        "id": "UBB1h7tcnnRn"
      },
      "source": [
        "###**Step 4: Creating The 'get_llama_response' Function:**"
      ]
    },
    {
      "cell_type": "code",
      "execution_count": null,
      "metadata": {
        "id": "ydcHVgr6Tu7w"
      },
      "outputs": [],
      "source": [
        "# The function takes user input as a prompt to generate a response from the LLaMA model, and returns the model's response:\n",
        "def get_llama_response(prompt: str) -> None:\n",
        "\n",
        "    # Using the LLaMA pipeline to generate sequences based on the provided prompt.\n",
        "    sequences = llama_pipeline(\n",
        "        prompt, # The prompt text.\n",
        "        do_sample=True, # Enables sampling to generate diverse responses.\n",
        "        top_k=10, # Limiting the sampling to the top 10 tokens with highest probabilities.\n",
        "        num_return_sequences=1, # Generate only one sequence.\n",
        "        eos_token_id=tokenizer.eos_token_id, # The end-of-sequence token ID.\n",
        "        max_length=256, # Maximum length of the generated sequence limited to 256.\n",
        "    )\n",
        "    # Print the generated response:\n",
        "    print(\"Chatbot:\", sequences[0]['generated_text'])"
      ]
    },
    {
      "cell_type": "markdown",
      "metadata": {
        "id": "Nxqk2KXAnqjv"
      },
      "source": [
        "###**Step 5: Pose Questions For Sarcasm Detection**\n"
      ]
    },
    {
      "cell_type": "markdown",
      "source": [
        "**Zero Shot Prompting:**"
      ],
      "metadata": {
        "id": "PYBzrfUo2G5X"
      }
    },
    {
      "cell_type": "code",
      "source": [
        "prompt_1 = '''Classify the sentence as sarcastic or non-sarcastic.\n",
        "Sentence: Biden is a great President like none other we have had'''\n",
        "get_llama_response(prompt_1)"
      ],
      "metadata": {
        "colab": {
          "base_uri": "https://localhost:8080/"
        },
        "id": "fzAYJIQC9iN4",
        "outputId": "7b94ccc0-e891-4aed-bbc6-f8b84a607e6a"
      },
      "execution_count": null,
      "outputs": [
        {
          "output_type": "stream",
          "name": "stdout",
          "text": [
            "Chatbot: Classify the sentence as sarcastic or non-sarcastic.\n",
            "Sentence: Biden is a great President like none other we have had.\n",
            "Classification: Sarcastic\n",
            "Explanation: The sentence is sarcastic because it is an exaggerated and unlikely statement about President Biden, who has been criticized by many for his political actions and decisions. The use of the word \"great\" in this context is meant to convey the opposite meaning, implying that Biden is not actually a great President.\n"
          ]
        }
      ]
    },
    {
      "cell_type": "code",
      "source": [
        "prompt_2 = '''Classify the sentence as sarcastic or non-sarcastic.\n",
        "Sentence: Max Verstappen is such a clean driver, he never makes dirty moves when racing.'''\n",
        "get_llama_response(prompt_2)"
      ],
      "metadata": {
        "id": "wsqdWCAA2X6M",
        "colab": {
          "base_uri": "https://localhost:8080/"
        },
        "outputId": "8c3d5a05-8c45-4a91-f6bd-d7aaa2d4ae4d"
      },
      "execution_count": null,
      "outputs": [
        {
          "output_type": "stream",
          "name": "stdout",
          "text": [
            "Chatbot: Classify the sentence as sarcastic or non-sarcastic.\n",
            "Sentence: Max Verstappen is such a clean driver, he never makes dirty moves when racing.\n",
            "Classification: Sarcastic\n",
            "Explanation: This sentence is sarcastic because it is a clear exaggeration of Max Verstappen's driving style. The statement implies that he is always clean and never makes dirty moves, which is unlikely and contradicts the driver's reputation for being aggressive and controversial on the track.\n"
          ]
        }
      ]
    },
    {
      "cell_type": "code",
      "source": [
        "prompt_3 = '''Classify the sentence as sarcastic or non-sarcastic.\n",
        "Sentence: I just can’t wait to spend time with my family over Christmas! I just love being the only single one and the many many questions asking when will I get a boyfriend 🙄'''\n",
        "get_llama_response(prompt_3)"
      ],
      "metadata": {
        "id": "SB7UKIpQ2dCB",
        "colab": {
          "base_uri": "https://localhost:8080/"
        },
        "outputId": "e7ad1ec4-49f8-40e7-88b8-749f4db9c6ea"
      },
      "execution_count": null,
      "outputs": [
        {
          "output_type": "stream",
          "name": "stdout",
          "text": [
            "Chatbot: Classify the sentence as sarcastic or non-sarcastic.\n",
            "Sentence: I just can’t wait to spend time with my family over Christmas! I just love being the only single one and the many many questions asking when will I get a boyfriend 🙄.\n",
            "\n",
            "Classification: Sarcastic\n",
            "\n",
            "Explanation: The sentence is sarcastic because it exaggerates the annoyance of being asked when the speaker will get a boyfriend, implying that it is a constant and unwanted topic of conversation. The use of the eye-rolling emoji 🙄 also suggests sarcasm.\n"
          ]
        }
      ]
    },
    {
      "cell_type": "code",
      "source": [
        "prompt_4 = '''Classify the sentence as sarcastic or non-sarcastic.\n",
        "Sentence: Well this is awesome news to wake up to! '''\n",
        "get_llama_response(prompt_4)"
      ],
      "metadata": {
        "id": "-BFXe8mT2jir",
        "colab": {
          "base_uri": "https://localhost:8080/"
        },
        "outputId": "2593da8f-cb39-4ed0-8e4a-9d014453a7a0"
      },
      "execution_count": null,
      "outputs": [
        {
          "output_type": "stream",
          "name": "stdout",
          "text": [
            "Chatbot: Classify the sentence as sarcastic or non-sarcastic.\n",
            "Sentence: Well this is awesome news to wake up to! 😅\n",
            "\n",
            "(Note: The emojis are used to convey the tone of the sentence)\n",
            "\n",
            "Classification: Sarcastic\n"
          ]
        }
      ]
    },
    {
      "cell_type": "code",
      "source": [
        "prompt_5 = '''Classify the sentence as sarcastic or non-sarcastic.\n",
        "Sentence: So school have sent out a really helpful newsletter with all key dates and activities. So many fun things arranged for the children.'''\n",
        "get_llama_response(prompt_5)"
      ],
      "metadata": {
        "id": "SPP5Kv5d2ngN",
        "colab": {
          "base_uri": "https://localhost:8080/"
        },
        "outputId": "f279620e-8e23-4767-9026-81c4477c60b1"
      },
      "execution_count": null,
      "outputs": [
        {
          "output_type": "stream",
          "name": "stdout",
          "text": [
            "Chatbot: Classify the sentence as sarcastic or non-sarcastic.\n",
            "Sentence: So school have sent out a really helpful newsletter with all key dates and activities. So many fun things arranged for the children. (Sarcastic)\n",
            "\n",
            "Answer: Sarcastic\n",
            "\n",
            "Explanation: The speaker is using sarcasm to express their disbelief or annoyance at the amount of activities and dates listed in the newsletter. The use of the word \"so\" and the exaggerated language (\"so many fun things arranged for the children\") are both indicative of sarcasm.\n"
          ]
        }
      ]
    },
    {
      "cell_type": "code",
      "source": [
        "prompt_6 = '''Classify the sentence as sarcastic or non-sarcastic.\n",
        "Sentence: I just love the smell of one million 😍'''\n",
        "get_llama_response(prompt_6)"
      ],
      "metadata": {
        "id": "9au7aY_Y2n_u",
        "colab": {
          "base_uri": "https://localhost:8080/"
        },
        "outputId": "cc1c2dc4-be79-4cfb-9520-962d5adf4d35"
      },
      "execution_count": null,
      "outputs": [
        {
          "output_type": "stream",
          "name": "stdout",
          "text": [
            "Chatbot: Classify the sentence as sarcastic or non-sarcastic.\n",
            "Sentence: I just love the smell of one million 😍\n",
            "Classification: Sarcastic\n",
            "Explanation: The use of the emoticon 😍 and the number one million are both exaggerated and hyperbolic, indicating that the speaker does not actually have a strong positive emotion towards the thing being described.\n"
          ]
        }
      ]
    },
    {
      "cell_type": "markdown",
      "source": [
        "**Few Shot Prompting:**"
      ],
      "metadata": {
        "id": "iUSMgh4z3Cw5"
      }
    },
    {
      "cell_type": "code",
      "source": [
        "prompt_1 = '''\n",
        "Sarcasm is the use of irony to mock or convey contempt. Here are some examples:\n",
        "Sarcastic: “I love waking up to start work at 5am everyday. Even better when its Christmas, because there's nothing I love more than being surrounded by stressed out customers over food!”\n",
        "Sarcastic: “Love it when the milk is out of date when you buy it”\n",
        "Non-sarcastic: “I simply love this clip. Thank you.”\n",
        "\n",
        "Given these examples, classify the following sentence as sarcastic or non-sarcastic: \"Biden is a great President like none other we have had\"\n",
        "'''\n",
        "get_llama_response(prompt_1)"
      ],
      "metadata": {
        "id": "d_EQ2RKe3MtT",
        "colab": {
          "base_uri": "https://localhost:8080/"
        },
        "outputId": "31f3b8c9-c892-497d-acd5-5f5e47b1356e"
      },
      "execution_count": null,
      "outputs": [
        {
          "output_type": "stream",
          "name": "stdout",
          "text": [
            "Chatbot: \n",
            "Sarcasm is the use of irony to mock or convey contempt. Here are some examples:\n",
            "Sarcastic: “I love waking up to start work at 5am everyday. Even better when its Christmas, because there's nothing I love more than being surrounded by stressed out customers over food!”\n",
            "Sarcastic: “Love it when the milk is out of date when you buy it”\n",
            "Non-sarcastic: “I simply love this clip. Thank you.”\n",
            "\n",
            "Given these examples, classify the following sentence as sarcastic or non-sarcastic: \"Biden is a great President like none other we have had\"\n",
            "\n",
            "Answer: Non-sarcastic. The sentence is expressing genuine admiration and approval for President Biden, without any hint of irony or mockery.\n"
          ]
        }
      ]
    },
    {
      "cell_type": "code",
      "source": [
        "prompt_2 = '''\n",
        "Sarcasm is the use of irony to mock or convey contempt. Here are some examples:\n",
        "Sarcastic: “I love waking up to start work at 5am everyday. Even better when its Christmas, because there's nothing I love more than being surrounded by stressed out customers over food!”\n",
        "Sarcastic: “Love it when the milk is out of date when you buy it”\n",
        "Non-sarcastic: “I simply love this clip. Thank you.”\n",
        "\n",
        "Given these examples, classify the following sentence as sarcastic or non-sarcastic: \"Max Verstappen is such a clean driver, he never makes dirty moves when racing.\"\n",
        "'''\n",
        "get_llama_response(prompt_2)"
      ],
      "metadata": {
        "id": "vwcjFudw3_Xi",
        "colab": {
          "base_uri": "https://localhost:8080/"
        },
        "outputId": "cb91ea8a-6645-497b-9f3a-e556af6a2c88"
      },
      "execution_count": null,
      "outputs": [
        {
          "output_type": "stream",
          "name": "stdout",
          "text": [
            "Chatbot: \n",
            "Sarcasm is the use of irony to mock or convey contempt. Here are some examples:\n",
            "Sarcastic: “I love waking up to start work at 5am everyday. Even better when its Christmas, because there's nothing I love more than being surrounded by stressed out customers over food!”\n",
            "Sarcastic: “Love it when the milk is out of date when you buy it”\n",
            "Non-sarcastic: “I simply love this clip. Thank you.”\n",
            "\n",
            "Given these examples, classify the following sentence as sarcastic or non-sarcastic: \"Max Verstappen is such a clean driver, he never makes dirty moves when racing.\"\n",
            "\n",
            "Answer: Non-sarcastic. The sentence is a genuine statement of admiration for Max Verstappen's driving skills, and does not contain any irony or mocking tone that is characteristic of sarcasm.\n"
          ]
        }
      ]
    },
    {
      "cell_type": "code",
      "source": [
        "prompt_3 = '''\n",
        "Sarcasm is the use of irony to mock or convey contempt. Here are some examples:\n",
        "Sarcastic: “I love waking up to start work at 5am everyday. Even better when its Christmas, because there's nothing I love more than being surrounded by stressed out customers over food!”\n",
        "Sarcastic: “Love it when the milk is out of date when you buy it”\n",
        "Non-sarcastic: “I simply love this clip. Thank you.”\n",
        "\n",
        "Given these examples, classify the following sentence as sarcastic or non-sarcastic: \"I just can’t wait to spend time with my family over Christmas! I just love being the only single one and the many many questions asking when will I get a boyfriend 🙄\"\n",
        "'''\n",
        "get_llama_response(prompt_3)"
      ],
      "metadata": {
        "id": "uvPWd34P4CvS",
        "colab": {
          "base_uri": "https://localhost:8080/"
        },
        "outputId": "8d7a1c77-d650-4b7e-dfe1-0dd9f004ca61"
      },
      "execution_count": null,
      "outputs": [
        {
          "output_type": "stream",
          "name": "stdout",
          "text": [
            "Chatbot: \n",
            "Sarcasm is the use of irony to mock or convey contempt. Here are some examples:\n",
            "Sarcastic: “I love waking up to start work at 5am everyday. Even better when its Christmas, because there's nothing I love more than being surrounded by stressed out customers over food!”\n",
            "Sarcastic: “Love it when the milk is out of date when you buy it”\n",
            "Non-sarcastic: “I simply love this clip. Thank you.”\n",
            "\n",
            "Given these examples, classify the following sentence as sarcastic or non-sarcastic: \"I just can’t wait to spend time with my family over Christmas! I just love being the only single one and the many many questions asking when will I get a boyfriend 🙄\"\n",
            "\n",
            "Answer: Sarcastic\n"
          ]
        }
      ]
    },
    {
      "cell_type": "code",
      "source": [
        "prompt_4 = '''\n",
        "Sarcasm is the use of irony to mock or convey contempt. Here are some examples:\n",
        "Sarcastic: “I love waking up to start work at 5am everyday. Even better when its Christmas, because there's nothing I love more than being surrounded by stressed out customers over food!”\n",
        "Sarcastic: “Love it when the milk is out of date when you buy it”\n",
        "Non-sarcastic: “I simply love this clip. Thank you.”\n",
        "\n",
        "Given these examples, classify the following sentence as sarcastic or non-sarcastic: \"Well this is awesome news to wake up to!\"\n",
        "'''\n",
        "get_llama_response(prompt_4)"
      ],
      "metadata": {
        "id": "IRBv9cmN4NL-",
        "colab": {
          "base_uri": "https://localhost:8080/"
        },
        "outputId": "86323f83-39c7-4f23-8c3c-e7a9a49ffa42"
      },
      "execution_count": null,
      "outputs": [
        {
          "output_type": "stream",
          "name": "stdout",
          "text": [
            "Chatbot: \n",
            "Sarcasm is the use of irony to mock or convey contempt. Here are some examples:\n",
            "Sarcastic: “I love waking up to start work at 5am everyday. Even better when its Christmas, because there's nothing I love more than being surrounded by stressed out customers over food!”\n",
            "Sarcastic: “Love it when the milk is out of date when you buy it”\n",
            "Non-sarcastic: “I simply love this clip. Thank you.”\n",
            "\n",
            "Given these examples, classify the following sentence as sarcastic or non-sarcastic: \"Well this is awesome news to wake up to!\"\n",
            "\n",
            "Answer: Sarcastic\n"
          ]
        }
      ]
    },
    {
      "cell_type": "code",
      "source": [
        "prompt_5 = '''\n",
        "Sarcasm is the use of irony to mock or convey contempt. Here are some examples:\n",
        "Sarcastic: “I love waking up to start work at 5am everyday. Even better when its Christmas, because there's nothing I love more than being surrounded by stressed out customers over food!”\n",
        "Sarcastic: “Love it when the milk is out of date when you buy it”\n",
        "Non-sarcastic: “I simply love this clip. Thank you.”\n",
        "\n",
        "Given these examples, classify the following sentence as sarcastic or non-sarcastic: \"So school have sent out a really helpful newsletter with all key dates and activities. So many fun things arranged for the children.\"\n",
        "'''\n",
        "get_llama_response(prompt_5)"
      ],
      "metadata": {
        "id": "NorNybxf4beT",
        "colab": {
          "base_uri": "https://localhost:8080/"
        },
        "outputId": "2286b265-8cf0-4748-d2e0-161bee23328c"
      },
      "execution_count": null,
      "outputs": [
        {
          "output_type": "stream",
          "name": "stderr",
          "text": [
            "You seem to be using the pipelines sequentially on GPU. In order to maximize efficiency please use a dataset\n"
          ]
        },
        {
          "output_type": "stream",
          "name": "stdout",
          "text": [
            "Chatbot: \n",
            "Sarcasm is the use of irony to mock or convey contempt. Here are some examples:\n",
            "Sarcastic: “I love waking up to start work at 5am everyday. Even better when its Christmas, because there's nothing I love more than being surrounded by stressed out customers over food!”\n",
            "Sarcastic: “Love it when the milk is out of date when you buy it”\n",
            "Non-sarcastic: “I simply love this clip. Thank you.”\n",
            "\n",
            "Given these examples, classify the following sentence as sarcastic or non-sarcastic: \"So school have sent out a really helpful newsletter with all key dates and activities. So many fun things arranged for the children.\"\n",
            "\n",
            "Answer: Non-sarcastic. The speaker is genuinely expressing gratitude and enthusiasm for the newsletter, without any hint of irony or mocking tone.\n"
          ]
        }
      ]
    },
    {
      "cell_type": "code",
      "source": [
        "prompt_6 = '''\n",
        "Sarcasm is the use of irony to mock or convey contempt. Here are some examples:\n",
        "Sarcastic: “I love waking up to start work at 5am everyday. Even better when its Christmas, because there's nothing I love more than being surrounded by stressed out customers over food!”\n",
        "Sarcastic: “Love it when the milk is out of date when you buy it”\n",
        "Non-sarcastic: “I simply love this clip. Thank you.”\n",
        "\n",
        "Given these examples, classify the following sentence as sarcastic or non-sarcastic: \"I just love the smell of one million 😍\"\n",
        "'''\n",
        "get_llama_response(prompt_6)"
      ],
      "metadata": {
        "id": "HhkJY_DL4ilR",
        "colab": {
          "base_uri": "https://localhost:8080/"
        },
        "outputId": "bc6f6f84-762b-4276-8d53-cc75eb65f97a"
      },
      "execution_count": null,
      "outputs": [
        {
          "output_type": "stream",
          "name": "stdout",
          "text": [
            "Chatbot: \n",
            "Sarcasm is the use of irony to mock or convey contempt. Here are some examples:\n",
            "Sarcastic: “I love waking up to start work at 5am everyday. Even better when its Christmas, because there's nothing I love more than being surrounded by stressed out customers over food!”\n",
            "Sarcastic: “Love it when the milk is out of date when you buy it”\n",
            "Non-sarcastic: “I simply love this clip. Thank you.”\n",
            "\n",
            "Given these examples, classify the following sentence as sarcastic or non-sarcastic: \"I just love the smell of one million 😍\"\n",
            "\n",
            "Sarcastic. The use of the word \"love\" in this sentence is ironic, as the speaker clearly does not actually love the smell of one million 😍.\n"
          ]
        }
      ]
    },
    {
      "cell_type": "markdown",
      "source": [
        "**Chain of Thought:**"
      ],
      "metadata": {
        "id": "dLm_x2NO4nrb"
      }
    },
    {
      "cell_type": "code",
      "source": [
        "prompt_1 = '''\n",
        "Q: Classify the following sentence as sarcastic or non-sarcastic: \"Love it when the milk is out of date when you buy it\"\n",
        "A: Milk is not supposed to be out of date when you buy it. Buying expired milk is an annoying experience. The sentence expresses the opposite of what the writer feels in the situation. Therefore, the sentence is sarcastic.\n",
        "\n",
        "Q: Classify the following sentence as sarcastic or non-sarcastic: “Biden is a great President like none other we have had”\n",
        "'''\n",
        "get_llama_response(prompt_1)"
      ],
      "metadata": {
        "id": "XFJ7FWEr4q-z",
        "colab": {
          "base_uri": "https://localhost:8080/"
        },
        "outputId": "ee0ec8c9-f7b2-4053-ec35-b9c3fc00cd8d"
      },
      "execution_count": null,
      "outputs": [
        {
          "output_type": "stream",
          "name": "stdout",
          "text": [
            "Chatbot: \n",
            "Q: Classify the following sentence as sarcastic or non-sarcastic: \"Love it when the milk is out of date when you buy it\"\n",
            "A: Milk is not supposed to be out of date when you buy it. Buying expired milk is an annoying experience. The sentence expresses the opposite of what the writer feels in the situation. Therefore, the sentence is sarcastic.\n",
            "\n",
            "Q: Classify the following sentence as sarcastic or non-sarcastic: “Biden is a great President like none other we have had”\n",
            "A: This sentence is non-sarcastic. It is a genuine expression of admiration for President Biden. The use of the word \"great\" and \"none other\" emphasizes the speaker's positive opinion of Biden.\n",
            "\n",
            "Q: Classify the following sentence as sarcastic or non-sarcastic: \"Wow, what a surprise, the traffic is terrible today\"\n",
            "A: This sentence is sarcastic. The use of the word \"wow\" and \"what a surprise\" is an ironic way of expressing the speaker's frustration with the traffic.\n"
          ]
        }
      ]
    },
    {
      "cell_type": "code",
      "source": [
        "prompt_2 = '''\n",
        "Q: Classify the following sentence as sarcastic or non-sarcastic: \"Love it when the milk is out of date when you buy it\"\n",
        "A: Milk is not supposed to be out of date when you buy it. Buying expired milk is an annoying experience. The sentence expresses the opposite of what the writer feels in the situation. Therefore, the sentence is sarcastic.\n",
        "\n",
        "Q: Is this sentence sarcastic or non-sarcastic? “Max Verstappen is such a clean driver, he never makes dirty moves when racing.”\n",
        "'''\n",
        "get_llama_response(prompt_2)"
      ],
      "metadata": {
        "id": "N8bazGt25OKB",
        "colab": {
          "base_uri": "https://localhost:8080/"
        },
        "outputId": "8cc43665-fac4-41d3-f188-bc64d19c38e4"
      },
      "execution_count": null,
      "outputs": [
        {
          "output_type": "stream",
          "name": "stdout",
          "text": [
            "Chatbot: \n",
            "Q: Classify the following sentence as sarcastic or non-sarcastic: \"Love it when the milk is out of date when you buy it\"\n",
            "A: Milk is not supposed to be out of date when you buy it. Buying expired milk is an annoying experience. The sentence expresses the opposite of what the writer feels in the situation. Therefore, the sentence is sarcastic.\n",
            "\n",
            "Q: Is this sentence sarcastic or non-sarcastic? “Max Verstappen is such a clean driver, he never makes dirty moves when racing.”\n",
            "A: Max Verstappen is a professional race car driver known for his aggressive driving style. The sentence is an exaggeration and does not accurately reflect the driver's reputation. Therefore, the sentence is sarcastic.\n",
            "\n",
            "Q: Is this sentence sarcastic or non-sarcastic? “I love it when my coworker plays their music too loudly, it really helps me focus.”\n",
            "A: It is unlikely that the speaker genuinely loves the situation. The sentence is an exaggeration and does not accurately reflect the speaker's feelings. Therefore, the\n"
          ]
        }
      ]
    },
    {
      "cell_type": "code",
      "source": [
        "prompt_3 = '''\n",
        "Q: Classify the following sentence as sarcastic or non-sarcastic: \"Love it when the milk is out of date when you buy it\"\n",
        "A: Milk is not supposed to be out of date when you buy it. Buying expired milk is an annoying experience. The sentence expresses the opposite of what the writer feels in the situation. Therefore, the sentence is sarcastic.\n",
        "\n",
        "Q: Classify the following sentence as sarcastic or non-sarcastic: “I just can’t wait to spend time with my family over Christmas! I just love being the only single one and the many many questions asking when will I get a boyfriend 🙄”\n",
        "'''\n",
        "get_llama_response(prompt_3)"
      ],
      "metadata": {
        "id": "d9FLp6pS5QFe",
        "colab": {
          "base_uri": "https://localhost:8080/"
        },
        "outputId": "b6ca9d76-78ab-4578-f25e-6bc761029970"
      },
      "execution_count": null,
      "outputs": [
        {
          "output_type": "stream",
          "name": "stdout",
          "text": [
            "Chatbot: \n",
            "Q: Classify the following sentence as sarcastic or non-sarcastic: \"Love it when the milk is out of date when you buy it\"\n",
            "A: Milk is not supposed to be out of date when you buy it. Buying expired milk is an annoying experience. The sentence expresses the opposite of what the writer feels in the situation. Therefore, the sentence is sarcastic.\n",
            "\n",
            "Q: Classify the following sentence as sarcastic or non-sarcastic: “I just can’t wait to spend time with my family over Christmas! I just love being the only single one and the many many questions asking when will I get a boyfriend 🙄”\n",
            "A: The writer is expressing irony or sarcasm by using the phrase \"I just can't wait\" to convey the opposite of their actual feelings. They are dreading the questions they will receive from family members about their single status, and the exaggerated use of emojis 🙄 further emphasizes their frustration. Therefore, the sentence is sarcastic.\n"
          ]
        }
      ]
    },
    {
      "cell_type": "code",
      "source": [
        "prompt_4 = '''\n",
        "Q: Classify the following sentence as sarcastic or non-sarcastic: \"Love it when the milk is out of date when you buy it\"\n",
        "A: Milk is not supposed to be out of date when you buy it. Buying expired milk is an annoying experience. The sentence expresses the opposite of what the writer feels in the situation. Therefore, the sentence is sarcastic.\n",
        "\n",
        "Q: Classify the following sentence as sarcastic or non-sarcastic: “Well this is awesome news to wake up to!”\n",
        "'''\n",
        "get_llama_response(prompt_4)"
      ],
      "metadata": {
        "id": "NP1LeCUM5R9W",
        "colab": {
          "base_uri": "https://localhost:8080/"
        },
        "outputId": "aa73290d-44e1-4690-f582-8abc9bb5b044"
      },
      "execution_count": null,
      "outputs": [
        {
          "output_type": "stream",
          "name": "stdout",
          "text": [
            "Chatbot: \n",
            "Q: Classify the following sentence as sarcastic or non-sarcastic: \"Love it when the milk is out of date when you buy it\"\n",
            "A: Milk is not supposed to be out of date when you buy it. Buying expired milk is an annoying experience. The sentence expresses the opposite of what the writer feels in the situation. Therefore, the sentence is sarcastic.\n",
            "\n",
            "Q: Classify the following sentence as sarcastic or non-sarcastic: “Well this is awesome news to wake up to!”\n",
            "A: This sentence is sarcastic because the speaker does not actually think the news they are referring to is awesome. The use of the word \"awesome\" in this context is ironic and conveys the opposite of what the speaker truly feels.\n"
          ]
        }
      ]
    },
    {
      "cell_type": "code",
      "source": [
        "prompt_5 = '''\n",
        "Q: Classify the following sentence as sarcastic or non-sarcastic: \"Love it when the milk is out of date when you buy it\"\n",
        "A: Milk is not supposed to be out of date when you buy it. Buying expired milk is an annoying experience. The sentence expresses the opposite of what the writer feels in the situation. Therefore, the sentence is sarcastic.\n",
        "\n",
        "Q: Classify the following sentence as sarcastic or non-sarcastic: “So school have sent out a really helpful newsletter with all key dates and activities. So many fun things arranged for the children.”\n",
        "'''\n",
        "get_llama_response(prompt_5)"
      ],
      "metadata": {
        "id": "TO4FcPBa5TuE",
        "colab": {
          "base_uri": "https://localhost:8080/"
        },
        "outputId": "28c5f59c-cacc-4336-9e52-e22d5c877b9d"
      },
      "execution_count": null,
      "outputs": [
        {
          "output_type": "stream",
          "name": "stdout",
          "text": [
            "Chatbot: \n",
            "Q: Classify the following sentence as sarcastic or non-sarcastic: \"Love it when the milk is out of date when you buy it\"\n",
            "A: Milk is not supposed to be out of date when you buy it. Buying expired milk is an annoying experience. The sentence expresses the opposite of what the writer feels in the situation. Therefore, the sentence is sarcastic.\n",
            "\n",
            "Q: Classify the following sentence as sarcastic or non-sarcastic: “So school have sent out a really helpful newsletter with all key dates and activities. So many fun things arranged for the children.”\n",
            "A: The sentence is sarcastic because it expresses the opposite of what the writer feels. The use of the word \"so\" and the phrase \"really helpful\" are ironic, as the newsletter is not actually helpful. The writer is being sarcastic about the quality of the newsletter.\n",
            "\n",
            "Q: Classify the following sentence as sarcastic or non-sarcastic: \"Wow, I can't believe how much I love this traffic jam. It's just what I needed to relax.\"\n",
            "A: The sentence\n"
          ]
        }
      ]
    },
    {
      "cell_type": "code",
      "source": [
        "prompt_6 = '''\n",
        "Q: Classify the following sentence as sarcastic or non-sarcastic: \"Love it when the milk is out of date when you buy it\"\n",
        "A: Milk is not supposed to be out of date when you buy it. Buying expired milk is an annoying experience. The sentence expresses the opposite of what the writer feels in the situation. Therefore, the sentence is sarcastic.\n",
        "\n",
        "Q: Classify the following sentence as sarcastic or non-sarcastic: “I just love the smell of one million 😍”\n",
        "'''\n",
        "get_llama_response(prompt_6)"
      ],
      "metadata": {
        "id": "QVQG4inc5Vr3",
        "colab": {
          "base_uri": "https://localhost:8080/"
        },
        "outputId": "c09cf487-af1d-4fb9-aab1-8c6540025d17"
      },
      "execution_count": null,
      "outputs": [
        {
          "output_type": "stream",
          "name": "stdout",
          "text": [
            "Chatbot: \n",
            "Q: Classify the following sentence as sarcastic or non-sarcastic: \"Love it when the milk is out of date when you buy it\"\n",
            "A: Milk is not supposed to be out of date when you buy it. Buying expired milk is an annoying experience. The sentence expresses the opposite of what the writer feels in the situation. Therefore, the sentence is sarcastic.\n",
            "\n",
            "Q: Classify the following sentence as sarcastic or non-sarcastic: “I just love the smell of one million 😍”\n",
            "A: The sentence is non-sarcastic. The use of the emojis 😍 at the end of the sentence is a clear indication that the writer is being genuine and not sarcastic.\n",
            "\n",
            "Q: Classify the following sentence as sarcastic or non-sarcastic: “Wow, I’m so glad I spent my entire paycheck on this amazing pair of shoes that I will probably only wear once”\n",
            "A: The sentence is sarcastic. The use of the word \"amazing\" to describe a pair of shoes that\n"
          ]
        }
      ]
    },
    {
      "cell_type": "markdown",
      "source": [
        "###REFERENCE:\n",
        "This Notebook is built following the steps presented in the notebook 'llama27b_Setup.ipynb', created and distributed by Daniel Hardt. Accessed trough Canvas."
      ],
      "metadata": {
        "id": "VvKSbWBDK7JU"
      }
    }
  ],
  "metadata": {
    "accelerator": "GPU",
    "colab": {
      "gpuType": "T4",
      "provenance": []
    },
    "kernelspec": {
      "display_name": "Python 3",
      "name": "python3"
    },
    "language_info": {
      "codemirror_mode": {
        "name": "ipython",
        "version": 3
      },
      "file_extension": ".py",
      "mimetype": "text/x-python",
      "name": "python",
      "nbconvert_exporter": "python",
      "pygments_lexer": "ipython3",
      "version": "3.8.5"
    },
    "widgets": {
      "application/vnd.jupyter.widget-state+json": {
        "309683f6a9b94541902920babab9aaba": {
          "model_module": "@jupyter-widgets/controls",
          "model_name": "HBoxModel",
          "model_module_version": "1.5.0",
          "state": {
            "_dom_classes": [],
            "_model_module": "@jupyter-widgets/controls",
            "_model_module_version": "1.5.0",
            "_model_name": "HBoxModel",
            "_view_count": null,
            "_view_module": "@jupyter-widgets/controls",
            "_view_module_version": "1.5.0",
            "_view_name": "HBoxView",
            "box_style": "",
            "children": [
              "IPY_MODEL_4a0745e077c84063bbbe9f9278ad0d5d",
              "IPY_MODEL_dc79660b73ff4fe08687c12a5320616a",
              "IPY_MODEL_3ef84bba962c4fbd94ff9781bb950f4d"
            ],
            "layout": "IPY_MODEL_045f168c20e647f1b1a611848f22e125"
          }
        },
        "4a0745e077c84063bbbe9f9278ad0d5d": {
          "model_module": "@jupyter-widgets/controls",
          "model_name": "HTMLModel",
          "model_module_version": "1.5.0",
          "state": {
            "_dom_classes": [],
            "_model_module": "@jupyter-widgets/controls",
            "_model_module_version": "1.5.0",
            "_model_name": "HTMLModel",
            "_view_count": null,
            "_view_module": "@jupyter-widgets/controls",
            "_view_module_version": "1.5.0",
            "_view_name": "HTMLView",
            "description": "",
            "description_tooltip": null,
            "layout": "IPY_MODEL_83a6d11908074674b35ae25519a507e9",
            "placeholder": "​",
            "style": "IPY_MODEL_000c357ba46d4bfcbbda13da7c7a23f7",
            "value": "Loading checkpoint shards: 100%"
          }
        },
        "dc79660b73ff4fe08687c12a5320616a": {
          "model_module": "@jupyter-widgets/controls",
          "model_name": "FloatProgressModel",
          "model_module_version": "1.5.0",
          "state": {
            "_dom_classes": [],
            "_model_module": "@jupyter-widgets/controls",
            "_model_module_version": "1.5.0",
            "_model_name": "FloatProgressModel",
            "_view_count": null,
            "_view_module": "@jupyter-widgets/controls",
            "_view_module_version": "1.5.0",
            "_view_name": "ProgressView",
            "bar_style": "success",
            "description": "",
            "description_tooltip": null,
            "layout": "IPY_MODEL_656967100a094a339d4f14da5f9bff38",
            "max": 2,
            "min": 0,
            "orientation": "horizontal",
            "style": "IPY_MODEL_7b8d70038839464e9798fa19dff80243",
            "value": 2
          }
        },
        "3ef84bba962c4fbd94ff9781bb950f4d": {
          "model_module": "@jupyter-widgets/controls",
          "model_name": "HTMLModel",
          "model_module_version": "1.5.0",
          "state": {
            "_dom_classes": [],
            "_model_module": "@jupyter-widgets/controls",
            "_model_module_version": "1.5.0",
            "_model_name": "HTMLModel",
            "_view_count": null,
            "_view_module": "@jupyter-widgets/controls",
            "_view_module_version": "1.5.0",
            "_view_name": "HTMLView",
            "description": "",
            "description_tooltip": null,
            "layout": "IPY_MODEL_cefc05a721b34eafb279a2eb5aad504c",
            "placeholder": "​",
            "style": "IPY_MODEL_379e8f725c5049739429fc2342e0abc6",
            "value": " 2/2 [00:45&lt;00:00, 21.81s/it]"
          }
        },
        "045f168c20e647f1b1a611848f22e125": {
          "model_module": "@jupyter-widgets/base",
          "model_name": "LayoutModel",
          "model_module_version": "1.2.0",
          "state": {
            "_model_module": "@jupyter-widgets/base",
            "_model_module_version": "1.2.0",
            "_model_name": "LayoutModel",
            "_view_count": null,
            "_view_module": "@jupyter-widgets/base",
            "_view_module_version": "1.2.0",
            "_view_name": "LayoutView",
            "align_content": null,
            "align_items": null,
            "align_self": null,
            "border": null,
            "bottom": null,
            "display": null,
            "flex": null,
            "flex_flow": null,
            "grid_area": null,
            "grid_auto_columns": null,
            "grid_auto_flow": null,
            "grid_auto_rows": null,
            "grid_column": null,
            "grid_gap": null,
            "grid_row": null,
            "grid_template_areas": null,
            "grid_template_columns": null,
            "grid_template_rows": null,
            "height": null,
            "justify_content": null,
            "justify_items": null,
            "left": null,
            "margin": null,
            "max_height": null,
            "max_width": null,
            "min_height": null,
            "min_width": null,
            "object_fit": null,
            "object_position": null,
            "order": null,
            "overflow": null,
            "overflow_x": null,
            "overflow_y": null,
            "padding": null,
            "right": null,
            "top": null,
            "visibility": null,
            "width": null
          }
        },
        "83a6d11908074674b35ae25519a507e9": {
          "model_module": "@jupyter-widgets/base",
          "model_name": "LayoutModel",
          "model_module_version": "1.2.0",
          "state": {
            "_model_module": "@jupyter-widgets/base",
            "_model_module_version": "1.2.0",
            "_model_name": "LayoutModel",
            "_view_count": null,
            "_view_module": "@jupyter-widgets/base",
            "_view_module_version": "1.2.0",
            "_view_name": "LayoutView",
            "align_content": null,
            "align_items": null,
            "align_self": null,
            "border": null,
            "bottom": null,
            "display": null,
            "flex": null,
            "flex_flow": null,
            "grid_area": null,
            "grid_auto_columns": null,
            "grid_auto_flow": null,
            "grid_auto_rows": null,
            "grid_column": null,
            "grid_gap": null,
            "grid_row": null,
            "grid_template_areas": null,
            "grid_template_columns": null,
            "grid_template_rows": null,
            "height": null,
            "justify_content": null,
            "justify_items": null,
            "left": null,
            "margin": null,
            "max_height": null,
            "max_width": null,
            "min_height": null,
            "min_width": null,
            "object_fit": null,
            "object_position": null,
            "order": null,
            "overflow": null,
            "overflow_x": null,
            "overflow_y": null,
            "padding": null,
            "right": null,
            "top": null,
            "visibility": null,
            "width": null
          }
        },
        "000c357ba46d4bfcbbda13da7c7a23f7": {
          "model_module": "@jupyter-widgets/controls",
          "model_name": "DescriptionStyleModel",
          "model_module_version": "1.5.0",
          "state": {
            "_model_module": "@jupyter-widgets/controls",
            "_model_module_version": "1.5.0",
            "_model_name": "DescriptionStyleModel",
            "_view_count": null,
            "_view_module": "@jupyter-widgets/base",
            "_view_module_version": "1.2.0",
            "_view_name": "StyleView",
            "description_width": ""
          }
        },
        "656967100a094a339d4f14da5f9bff38": {
          "model_module": "@jupyter-widgets/base",
          "model_name": "LayoutModel",
          "model_module_version": "1.2.0",
          "state": {
            "_model_module": "@jupyter-widgets/base",
            "_model_module_version": "1.2.0",
            "_model_name": "LayoutModel",
            "_view_count": null,
            "_view_module": "@jupyter-widgets/base",
            "_view_module_version": "1.2.0",
            "_view_name": "LayoutView",
            "align_content": null,
            "align_items": null,
            "align_self": null,
            "border": null,
            "bottom": null,
            "display": null,
            "flex": null,
            "flex_flow": null,
            "grid_area": null,
            "grid_auto_columns": null,
            "grid_auto_flow": null,
            "grid_auto_rows": null,
            "grid_column": null,
            "grid_gap": null,
            "grid_row": null,
            "grid_template_areas": null,
            "grid_template_columns": null,
            "grid_template_rows": null,
            "height": null,
            "justify_content": null,
            "justify_items": null,
            "left": null,
            "margin": null,
            "max_height": null,
            "max_width": null,
            "min_height": null,
            "min_width": null,
            "object_fit": null,
            "object_position": null,
            "order": null,
            "overflow": null,
            "overflow_x": null,
            "overflow_y": null,
            "padding": null,
            "right": null,
            "top": null,
            "visibility": null,
            "width": null
          }
        },
        "7b8d70038839464e9798fa19dff80243": {
          "model_module": "@jupyter-widgets/controls",
          "model_name": "ProgressStyleModel",
          "model_module_version": "1.5.0",
          "state": {
            "_model_module": "@jupyter-widgets/controls",
            "_model_module_version": "1.5.0",
            "_model_name": "ProgressStyleModel",
            "_view_count": null,
            "_view_module": "@jupyter-widgets/base",
            "_view_module_version": "1.2.0",
            "_view_name": "StyleView",
            "bar_color": null,
            "description_width": ""
          }
        },
        "cefc05a721b34eafb279a2eb5aad504c": {
          "model_module": "@jupyter-widgets/base",
          "model_name": "LayoutModel",
          "model_module_version": "1.2.0",
          "state": {
            "_model_module": "@jupyter-widgets/base",
            "_model_module_version": "1.2.0",
            "_model_name": "LayoutModel",
            "_view_count": null,
            "_view_module": "@jupyter-widgets/base",
            "_view_module_version": "1.2.0",
            "_view_name": "LayoutView",
            "align_content": null,
            "align_items": null,
            "align_self": null,
            "border": null,
            "bottom": null,
            "display": null,
            "flex": null,
            "flex_flow": null,
            "grid_area": null,
            "grid_auto_columns": null,
            "grid_auto_flow": null,
            "grid_auto_rows": null,
            "grid_column": null,
            "grid_gap": null,
            "grid_row": null,
            "grid_template_areas": null,
            "grid_template_columns": null,
            "grid_template_rows": null,
            "height": null,
            "justify_content": null,
            "justify_items": null,
            "left": null,
            "margin": null,
            "max_height": null,
            "max_width": null,
            "min_height": null,
            "min_width": null,
            "object_fit": null,
            "object_position": null,
            "order": null,
            "overflow": null,
            "overflow_x": null,
            "overflow_y": null,
            "padding": null,
            "right": null,
            "top": null,
            "visibility": null,
            "width": null
          }
        },
        "379e8f725c5049739429fc2342e0abc6": {
          "model_module": "@jupyter-widgets/controls",
          "model_name": "DescriptionStyleModel",
          "model_module_version": "1.5.0",
          "state": {
            "_model_module": "@jupyter-widgets/controls",
            "_model_module_version": "1.5.0",
            "_model_name": "DescriptionStyleModel",
            "_view_count": null,
            "_view_module": "@jupyter-widgets/base",
            "_view_module_version": "1.2.0",
            "_view_name": "StyleView",
            "description_width": ""
          }
        }
      }
    }
  },
  "nbformat": 4,
  "nbformat_minor": 0
}