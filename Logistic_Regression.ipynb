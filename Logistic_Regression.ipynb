{
  "nbformat": 4,
  "nbformat_minor": 0,
  "metadata": {
    "colab": {
      "provenance": []
    },
    "kernelspec": {
      "name": "python3",
      "display_name": "Python 3"
    },
    "language_info": {
      "name": "python"
    }
  },
  "cells": [
    {
      "cell_type": "markdown",
      "source": [
        "# Natural Language Processing and Text Analytics Final Exam [KAN-CDSCO1002U]\n",
        "\n",
        "Afnan El-Segaier (137863)  \n",
        "Une Aspelin (152294)  \n",
        "Kristin Sundby (167303)  \n",
        "Marlin Haavengen (167342)\n",
        "  \n",
        "\n",
        "\n",
        "---\n",
        "\n",
        "\n",
        "  \n",
        "This section outlines the code for the **Logistic Regression** model:\n",
        "*   Preprocessing\n",
        "*   Emoji Replacement\n",
        "*   Building the model using the training dataset\n",
        "*   Testing the model using the test dataset\n",
        "\n",
        "\n",
        "\n"
      ],
      "metadata": {
        "id": "0OjmzlkfrxOb"
      }
    },
    {
      "cell_type": "markdown",
      "source": [
        "## Logistic Regression Model"
      ],
      "metadata": {
        "id": "zjW_5l0lvoC9"
      }
    },
    {
      "cell_type": "markdown",
      "source": [
        "###**Step 1: Preprocessing With Emoji Replacement:**"
      ],
      "metadata": {
        "id": "y2o81uu8r-g3"
      }
    },
    {
      "cell_type": "code",
      "source": [
        "pip install emoji"
      ],
      "metadata": {
        "colab": {
          "base_uri": "https://localhost:8080/"
        },
        "id": "FIAww6qHve87",
        "outputId": "3e68b9e4-2d44-4aa4-c403-ca90d86f5a33",
        "collapsed": true
      },
      "execution_count": null,
      "outputs": [
        {
          "output_type": "stream",
          "name": "stdout",
          "text": [
            "Collecting emoji\n",
            "  Downloading emoji-2.12.1-py3-none-any.whl (431 kB)\n",
            "\u001b[2K     \u001b[90m━━━━━━━━━━━━━━━━━━━━━━━━━━━━━━━━━━━━━━━━\u001b[0m \u001b[32m431.4/431.4 kB\u001b[0m \u001b[31m6.5 MB/s\u001b[0m eta \u001b[36m0:00:00\u001b[0m\n",
            "\u001b[?25hRequirement already satisfied: typing-extensions>=4.7.0 in /usr/local/lib/python3.10/dist-packages (from emoji) (4.11.0)\n",
            "Installing collected packages: emoji\n",
            "Successfully installed emoji-2.12.1\n"
          ]
        }
      ]
    },
    {
      "cell_type": "code",
      "source": [
        "# Import necessary libraries\n",
        "\n",
        "import re\n",
        "import nltk\n",
        "import emoji\n",
        "import pandas as pd\n",
        "from nltk.corpus import stopwords\n",
        "from nltk.tokenize import word_tokenize\n",
        "from nltk.stem import WordNetLemmatizer\n",
        "from sklearn.feature_extraction.text import CountVectorizer\n",
        "from sklearn.model_selection import train_test_split\n",
        "from sklearn.linear_model import LogisticRegression\n",
        "from sklearn.metrics import classification_report, confusion_matrix\n",
        "import seaborn as sns\n",
        "import matplotlib.pyplot as plt\n",
        "\n",
        "# Download necessary NLTK data\n",
        "nltk.download('punkt')\n",
        "nltk.download('stopwords')\n",
        "nltk.download('wordnet')"
      ],
      "metadata": {
        "colab": {
          "base_uri": "https://localhost:8080/"
        },
        "collapsed": true,
        "id": "eWoQA5suymfa",
        "outputId": "ab7b1c27-7ce7-4681-932c-345d6edbf8fe"
      },
      "execution_count": null,
      "outputs": [
        {
          "output_type": "stream",
          "name": "stderr",
          "text": [
            "[nltk_data] Downloading package punkt to /root/nltk_data...\n",
            "[nltk_data]   Unzipping tokenizers/punkt.zip.\n",
            "[nltk_data] Downloading package stopwords to /root/nltk_data...\n",
            "[nltk_data]   Unzipping corpora/stopwords.zip.\n",
            "[nltk_data] Downloading package wordnet to /root/nltk_data...\n"
          ]
        },
        {
          "output_type": "execute_result",
          "data": {
            "text/plain": [
              "True"
            ]
          },
          "metadata": {},
          "execution_count": 2
        }
      ]
    },
    {
      "cell_type": "markdown",
      "source": [
        "**Defining The Replace_emoji And Preprocess Functions:**"
      ],
      "metadata": {
        "id": "O0Wu2Q92zTOp"
      }
    },
    {
      "cell_type": "code",
      "source": [
        "# Function to replace emojis with descriptive text\n",
        "def replace_emojis(text):\n",
        "    return emoji.demojize(text, delimiters=(\" \", \" \")) if isinstance(text, str) else \"\"\n",
        "\n",
        "# Function to preprocess text\n",
        "def preprocess_text(text):\n",
        "    if not isinstance(text, str):\n",
        "        return None\n",
        "\n",
        "    # Remove '@' mentions\n",
        "    text = re.sub(r'@\\S+', '', text)\n",
        "\n",
        "    # Remove URLs\n",
        "    text = re.sub(r'http\\S+', '', text)\n",
        "\n",
        "    # Remove specified hashtags\n",
        "    text = re.sub(r'#sarcasm|#sarcastic|#irony|#ironic', '', text, flags=re.IGNORECASE)\n",
        "\n",
        "    # Replace emojis with descriptive text\n",
        "    text = emoji.demojize(text, delimiters=(\" \", \" \"))\n",
        "\n",
        "    # Convert to lowercase\n",
        "    text = text.lower()\n",
        "\n",
        "    # Remove digits\n",
        "    text = re.sub(r'\\d+', '', text)\n",
        "\n",
        "    # Remove punctuation and special characters but keep underscores\n",
        "    text = re.sub(r'[^\\w\\s]', '', text)\n",
        "\n",
        "    # Tokenize the text\n",
        "    tokens = word_tokenize(text)\n",
        "\n",
        "    # Remove stopwords and short tokens\n",
        "    stop_words = set(stopwords.words('english'))\n",
        "    tokens = [word for word in tokens if word not in stop_words and len(word) > 2]\n",
        "\n",
        "    # Lemmatize words\n",
        "    lemmatizer = WordNetLemmatizer()\n",
        "    tokens = [lemmatizer.lemmatize(word) for word in tokens]\n",
        "\n",
        "    # Join tokens back into a single string\n",
        "    processed_text = ' '.join(tokens)\n",
        "\n",
        "    return processed_text if processed_text.strip() else None"
      ],
      "metadata": {
        "id": "P_ZwRNstzF4L"
      },
      "execution_count": null,
      "outputs": []
    },
    {
      "cell_type": "markdown",
      "source": [
        "**Applying The Functions To Both Test (isarcasm_train.csv) And Training  (isarcasm_test.csv) Datasets:**"
      ],
      "metadata": {
        "id": "79SnG6Q-Ed5V"
      }
    },
    {
      "cell_type": "code",
      "source": [
        "# Load the training and test datasets\n",
        "df_train = pd.read_csv('isarcasm_train.csv')\n",
        "df_test = pd.read_csv('isarcasm_test.csv')\n",
        "\n",
        "# Rename columns for consistency\n",
        "df_train = df_train.rename(columns={'tweet': 'text', 'sarcastic': 'label'})\n",
        "df_test = df_test.rename(columns={'sarcastic': 'label'})\n",
        "\n",
        "# Handle NaN values and ensure all entries are strings in both datasets\n",
        "df_train['text'] = df_train['text'].fillna('').astype(str)\n",
        "df_test['text'] = df_test['text'].fillna('').astype(str)\n",
        "\n",
        "# Apply the preprocessing function to both datasets\n",
        "df_train['Tweets_Cleaned'] = df_train['text'].apply(preprocess_text)\n",
        "df_test['Tweets_Cleaned'] = df_test['text'].apply(preprocess_text)\n",
        "\n",
        "# Apply the emoji replacement function to both datasets\n",
        "df_train['Tweets_Cleaned'] = df_train['Tweets_Cleaned'].apply(replace_emojis)\n",
        "df_test['Tweets_Cleaned'] = df_test['Tweets_Cleaned'].apply(replace_emojis)\n",
        "\n",
        "# Remove rows with empty 'Tweets_Cleaned' column in both datasets\n",
        "df_train = df_train.dropna(subset=['Tweets_Cleaned'])\n",
        "df_test = df_test.dropna(subset=['Tweets_Cleaned'])"
      ],
      "metadata": {
        "collapsed": true,
        "id": "11vFUHPFz8zC"
      },
      "execution_count": null,
      "outputs": []
    },
    {
      "cell_type": "markdown",
      "source": [
        "###**Step 2: Build And Test The Logistic Regression Model:**\n",
        "\n",
        "Classification report and confusion matrix to evaluate the model is provided"
      ],
      "metadata": {
        "id": "tjULR0DVsDm2"
      }
    },
    {
      "cell_type": "code",
      "source": [
        "# Vectorization using CountVectorizer (Bag of Words model)\n",
        "vectorizer = CountVectorizer()\n",
        "X_train = vectorizer.fit_transform(df_train['Tweets_Cleaned'])\n",
        "y_train = df_train['label']\n",
        "X_test = vectorizer.transform(df_test['Tweets_Cleaned'])\n",
        "y_test = df_test['label']\n",
        "\n",
        "# Train Logistic Regression model\n",
        "model = LogisticRegression(random_state=42, max_iter=1000)\n",
        "model.fit(X_train, y_train)\n",
        "\n",
        "# Make predictions for test set\n",
        "y_test_pred = model.predict(X_test)\n",
        "\n",
        "# Print classification report\n",
        "print('Test Set:')\n",
        "print(classification_report(y_test, y_test_pred))\n",
        "\n",
        "# Confusion matrix\n",
        "conf_matrix = confusion_matrix(y_test, y_test_pred)\n",
        "sns.heatmap(conf_matrix, annot=True, fmt='d', cmap='Blues', xticklabels=['Non-Sarcastic', 'Sarcastic'], yticklabels=['Non-Sarcastic', 'Sarcastic'])\n",
        "plt.xlabel('Predicted')\n",
        "plt.ylabel('Actual')\n",
        "plt.title('Confusion Matrix')\n",
        "plt.show()"
      ],
      "metadata": {
        "colab": {
          "base_uri": "https://localhost:8080/",
          "height": 651
        },
        "id": "Ry37P2OOzC1K",
        "outputId": "6b571de1-bc0e-4837-c7d9-46e56c51a113"
      },
      "execution_count": null,
      "outputs": [
        {
          "output_type": "stream",
          "name": "stdout",
          "text": [
            "Test Set:\n",
            "              precision    recall  f1-score   support\n",
            "\n",
            "           0       0.88      0.93      0.90      1200\n",
            "           1       0.34      0.23      0.27       200\n",
            "\n",
            "    accuracy                           0.83      1400\n",
            "   macro avg       0.61      0.58      0.59      1400\n",
            "weighted avg       0.80      0.83      0.81      1400\n",
            "\n"
          ]
        },
        {
          "output_type": "display_data",
          "data": {
            "text/plain": [
              "<Figure size 640x480 with 2 Axes>"
            ],
            "image/png": "[encoded data removed]"
          },
          "metadata": {}
        }
      ]
    },
    {
      "cell_type": "markdown",
      "source": [
        "**Print A Selection Of Correct And Incorrect Predictions:**"
      ],
      "metadata": {
        "id": "opovdu3K0H_e"
      }
    },
    {
      "cell_type": "code",
      "source": [
        "# Sentences to predict\n",
        "sentences = [\n",
        "    \"Biden is a great President like none other we have had\",\n",
        "    \"Max Verstappen is such a clean driver, he never makes dirty moves when racing.\",\n",
        "    \"I just can’t wait to spend time with my family over Christmas! I just love being the only single one and the many many questions asking when will I get a boyfriend 🙄\",\n",
        "    \"Well this is awesome news to wake up to!\",\n",
        "    \"So school have sent out a really helpful newsletter with all key dates and activities. So many fun things arranged for the children.\",\n",
        "    \"I just love the smell of one million 😍\"\n",
        "]\n",
        "\n",
        "# Preprocess the sentences\n",
        "preprocessed_sentences = [preprocess_text(sentence) for sentence in sentences]\n",
        "\n",
        "# Vectorize the preprocessed sentences\n",
        "X_sentences = vectorizer.transform(preprocessed_sentences)\n",
        "\n",
        "# Predict the labels\n",
        "predictions = model.predict(X_sentences)\n",
        "\n",
        "# Display the predictions\n",
        "for sentence, prediction in zip(sentences, predictions):\n",
        "    print(f\"Sentence: {sentence}\\nPrediction: {'Sarcastic' if prediction == 1 else 'Non-Sarcastic'}\\n\")"
      ],
      "metadata": {
        "colab": {
          "base_uri": "https://localhost:8080/"
        },
        "id": "56oDcu_k0m99",
        "outputId": "7e6ccb94-7af5-4d16-e9d6-6b368f2dacf8"
      },
      "execution_count": null,
      "outputs": [
        {
          "output_type": "stream",
          "name": "stdout",
          "text": [
            "Sentence: Biden is a great President like none other we have had\n",
            "Prediction: Non-Sarcastic\n",
            "\n",
            "Sentence: Max Verstappen is such a clean driver, he never makes dirty moves when racing.\n",
            "Prediction: Non-Sarcastic\n",
            "\n",
            "Sentence: I just can’t wait to spend time with my family over Christmas! I just love being the only single one and the many many questions asking when will I get a boyfriend 🙄\n",
            "Prediction: Sarcastic\n",
            "\n",
            "Sentence: Well this is awesome news to wake up to!\n",
            "Prediction: Non-Sarcastic\n",
            "\n",
            "Sentence: So school have sent out a really helpful newsletter with all key dates and activities. So many fun things arranged for the children.\n",
            "Prediction: Non-Sarcastic\n",
            "\n",
            "Sentence: I just love the smell of one million 😍\n",
            "Prediction: Non-Sarcastic\n",
            "\n"
          ]
        }
      ]
    }
  ]
}