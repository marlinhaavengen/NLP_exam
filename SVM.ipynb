{
  "cells": [
    {
      "cell_type": "markdown",
      "source": [
        "# Natural Language Processing and Text Analytics Final Exam [KAN-CDSCO1002U]\n",
        "\n",
        "Afnan El-Segaier (137863)  \n",
        "Une Aspelin (152294)  \n",
        "Kristin Sundby (167303)  \n",
        "Marlin Haavengen (167342)\n",
        "\n",
        "\n",
        "\n",
        "---\n",
        "\n",
        "\n",
        "\n",
        "This section outlines the code for the **Support Vector Machine** model:\n",
        "*   Preprocessing\n",
        "*   Feature Extraction\n",
        "*   Building the model using the training dataset\n",
        "*   Testing the model using the test dataset"
      ],
      "metadata": {
        "id": "GDEg_ZImu9hi"
      }
    },
    {
      "cell_type": "markdown",
      "metadata": {
        "id": "EUOl6iNIurhi"
      },
      "source": [
        "## SVM Model"
      ]
    },
    {
      "cell_type": "markdown",
      "source": [
        "###**Step 1: Preprocessing:**"
      ],
      "metadata": {
        "id": "BFjvvaisv2Ps"
      }
    },
    {
      "cell_type": "code",
      "execution_count": null,
      "metadata": {
        "id": "EsGD7yKrurhj"
      },
      "outputs": [],
      "source": [
        "import ssl\n",
        "ssl._create_default_https_context = ssl._create_unverified_context"
      ]
    },
    {
      "cell_type": "code",
      "execution_count": null,
      "metadata": {
        "collapsed": true,
        "id": "OSA7HhZturhk",
        "outputId": "f5e3a2f0-3dea-4e77-8e66-30b3d7c2dba3"
      },
      "outputs": [
        {
          "name": "stderr",
          "output_type": "stream",
          "text": [
            "[nltk_data] Downloading package punkt to\n",
            "[nltk_data]     /Users/kristinsundby/nltk_data...\n",
            "[nltk_data]   Package punkt is already up-to-date!\n",
            "[nltk_data] Downloading package stopwords to\n",
            "[nltk_data]     /Users/kristinsundby/nltk_data...\n",
            "[nltk_data]   Package stopwords is already up-to-date!\n",
            "[nltk_data] Downloading package wordnet to\n",
            "[nltk_data]     /Users/kristinsundby/nltk_data...\n",
            "[nltk_data]   Package wordnet is already up-to-date!\n"
          ]
        },
        {
          "data": {
            "text/plain": [
              "True"
            ]
          },
          "execution_count": 36,
          "metadata": {},
          "output_type": "execute_result"
        }
      ],
      "source": [
        "# Import relevant libraries\n",
        "\n",
        "import re\n",
        "import nltk\n",
        "import pandas as pd\n",
        "from nltk.corpus import stopwords\n",
        "from nltk.tokenize import word_tokenize\n",
        "from nltk.stem import WordNetLemmatizer\n",
        "from sklearn.feature_extraction.text import CountVectorizer\n",
        "from sklearn.model_selection import train_test_split\n",
        "from sklearn.svm import SVC\n",
        "from sklearn.metrics import classification_report, confusion_matrix\n",
        "import seaborn as sns\n",
        "import matplotlib.pyplot as plt\n",
        "import re\n",
        "from nltk.tokenize import word_tokenize\n",
        "from nltk.corpus import stopwords\n",
        "from nltk.stem import WordNetLemmatizer\n",
        "import emoji\n",
        "import regex\n",
        "import pandas as pd\n",
        "import numpy as np\n",
        "from gensim.models import Word2Vec\n",
        "import gensim\n",
        "from nltk.tokenize import word_tokenize\n",
        "from sklearn.metrics import classification_report, accuracy_score\n",
        "from collections import Counter\n",
        "\n",
        "nltk.download('punkt')\n",
        "nltk.download('stopwords')\n",
        "nltk.download('wordnet')"
      ]
    },
    {
      "cell_type": "code",
      "execution_count": null,
      "metadata": {
        "id": "Y9J5HcTlurhl"
      },
      "outputs": [],
      "source": [
        "# Load the training and test datasets\n",
        "df_train = pd.read_csv('isarcasm_train.csv')\n",
        "df_test = pd.read_csv('isarcasm_test.csv')"
      ]
    },
    {
      "cell_type": "code",
      "execution_count": null,
      "metadata": {
        "id": "_SjIU-7Kurhl"
      },
      "outputs": [],
      "source": [
        "# Rename columns for consistency\n",
        "df_train = df_train.rename(columns={'tweet': 'text', 'sarcastic': 'label'})\n",
        "df_test = df_test.rename(columns={'sarcastic': 'label'})"
      ]
    },
    {
      "cell_type": "markdown",
      "metadata": {
        "id": "5OarCeIyurhl"
      },
      "source": [
        "**Defining The Preprocessing Function:**"
      ]
    },
    {
      "cell_type": "code",
      "execution_count": null,
      "metadata": {
        "id": "kOqRr0HNurhl"
      },
      "outputs": [],
      "source": [
        "# Preprocessing function\n",
        "def preprocess_text(text):\n",
        "    if not isinstance(text, str):\n",
        "        return None\n",
        "\n",
        "    # Remove @ mentions\n",
        "    text = re.sub(r'@\\S+', '', text)\n",
        "\n",
        "    # Remove URLs\n",
        "    text = re.sub(r'http\\S+', '', text)\n",
        "\n",
        "    # Remove specified hashtags\n",
        "    text = re.sub(r'#sarcasm|#sarcastic|#irony|#ironic', '', text, flags=re.IGNORECASE)\n",
        "\n",
        "    # Remove digits\n",
        "    text = re.sub(r'\\d+', '', text)\n",
        "\n",
        "    # Retain exclamation mark, question mark and emojis, but remove other special characters\n",
        "    text = ''.join([char for char in text if char.isalpha() or char.isspace() or char in emoji.EMOJI_DATA or char in '!?'])\n",
        "\n",
        "    # Tokenize the text\n",
        "    tokens = word_tokenize(text)\n",
        "\n",
        "    # Remove stopwords\n",
        "    stop_words = set(stopwords.words('english'))\n",
        "    tokens = [word for word in tokens if word.lower() not in stop_words]\n",
        "\n",
        "    # Convert to lowercase, but keeping all caps words as they are\n",
        "    tokens = [word if word.isupper() else word.lower() for word in tokens]\n",
        "\n",
        "    # Lemmatize words\n",
        "    lemmatizer = WordNetLemmatizer()\n",
        "    tokens = [lemmatizer.lemmatize(word) for word in tokens]\n",
        "\n",
        "    # Join tokens back into a single string\n",
        "    processed_text = ' '.join(tokens)\n",
        "\n",
        "    return processed_text if processed_text.strip() else None"
      ]
    },
    {
      "cell_type": "markdown",
      "source": [
        "**Applying The Functions To Both Test (isarcasm_train.csv) And Training  (isarcasm_test.csv) Datasets:**"
      ],
      "metadata": {
        "id": "it6PhaxpwpUm"
      }
    },
    {
      "cell_type": "code",
      "execution_count": null,
      "metadata": {
        "id": "3hqSl3bmurhm"
      },
      "outputs": [],
      "source": [
        "# Apply the preprocessing function to both datasets\n",
        "df_train['Tweets_Cleaned'] = df_train['text'].apply(preprocess_text)\n",
        "df_test['Tweets_Cleaned'] = df_test['text'].apply(preprocess_text)"
      ]
    },
    {
      "cell_type": "code",
      "execution_count": null,
      "metadata": {
        "id": "-ePfUdJaurhm",
        "outputId": "acd05896-3706-44dc-c9bf-bc0ca38de565"
      },
      "outputs": [
        {
          "name": "stdout",
          "output_type": "stream",
          "text": [
            "Training Data:\n",
            "                                                text  \\\n",
            "0  The only thing I got from college is a caffein...   \n",
            "1  I love it when professors draw a big question ...   \n",
            "2  Remember the hundred emails from companies whe...   \n",
            "3  Today my pop-pop told me I was not “forced” to...   \n",
            "4  @VolphanCarol @littlewhitty @mysticalmanatee I...   \n",
            "5  @jimrossignol I choose to interpret it as \"XD\"...   \n",
            "6  Why would Alexa's recipe for Yorkshire pudding...   \n",
            "7  someone hit me w a horse tranquilizer istg ive...   \n",
            "8  Loving season 4 of trump does America. Funnies...   \n",
            "9  Holly Arnold ??? Who #ImACeleb  #MBE nope not ...   \n",
            "\n",
            "                                      Tweets_Cleaned  \n",
            "0               thing got college caffeine addiction  \n",
            "1  love professor draw big question mark next ans...  \n",
            "2  remember hundred email company covid started g...  \n",
            "3  today poppop told forced go college 🙃 okay sur...  \n",
            "4  also reported cancun cruz worrying heartbeat c...  \n",
            "5  choose interpret XD universal emoticon laughin...  \n",
            "6  would alexas recipe yorkshire pudding bhaji yo...  \n",
            "7  someone hit w horse tranquilizer istg ive pool...  \n",
            "8  loving season trump america funniest season ye...  \n",
            "9  holly arnold ? ? ? imaceleb MBE nope sure oh h...  \n"
          ]
        }
      ],
      "source": [
        "# Display the original text and cleaned text side by side for the training set\n",
        "print(\"Training Data:\")\n",
        "print(df_train[['text', 'Tweets_Cleaned']].head(10))"
      ]
    },
    {
      "cell_type": "code",
      "execution_count": null,
      "metadata": {
        "id": "CPkcESOQurhm",
        "outputId": "0e1d50fc-730c-47e8-cec0-2616c837adb6"
      },
      "outputs": [
        {
          "name": "stdout",
          "output_type": "stream",
          "text": [
            "Test Data:\n",
            "                                                text  \\\n",
            "0  Size on the the Toulouse team, That pack is mo...   \n",
            "1                                           Pinball!   \n",
            "2  So the Scottish Government want people to get ...   \n",
            "3  villainous pro tip : change the device name on...   \n",
            "4                    I would date any of these men 🥺   \n",
            "5  If there's one fictional place I could go, Chr...   \n",
            "6  I mean, it's a great cause they're doing it fo...   \n",
            "7   Where did they get 1.22xg from without the pen?!   \n",
            "8  There was so much interest in your Venice seri...   \n",
            "9  Sometimes I lay in bed and think about how tod...   \n",
            "\n",
            "                                      Tweets_Cleaned  \n",
            "0  size toulouse team pack monstrous cant see wel...  \n",
            "1                                          pinball !  \n",
            "2  scottish government want people get booster sh...  \n",
            "3  villainous pro tip change device name bluetoot...  \n",
            "4                                   would date men 🥺  \n",
            "5  there one fictional place could go christmas h...  \n",
            "6  mean great cause theyre new xmas music thats w...  \n",
            "7                             get xg without pen ? !  \n",
            "8  much interest venice series peg hand colouring...  \n",
            "9  sometimes lay bed think today day make life be...  \n"
          ]
        }
      ],
      "source": [
        "# Display the original text and cleaned text side by side for the test set\n",
        "print(\"Test Data:\")\n",
        "print(df_test[['text', 'Tweets_Cleaned']].head(10))"
      ]
    },
    {
      "cell_type": "code",
      "execution_count": null,
      "metadata": {
        "id": "CsrjYRLZurhm"
      },
      "outputs": [],
      "source": [
        "# Reduce the datasets to only the relevant columns\n",
        "df_train = df_train[['Tweets_Cleaned', 'label']]\n",
        "df_test = df_test[['Tweets_Cleaned', 'label']]"
      ]
    },
    {
      "cell_type": "code",
      "execution_count": null,
      "metadata": {
        "id": "zK0ezaMkurhm",
        "outputId": "3c8b814e-df01-40fc-a68f-ee36b64f7290"
      },
      "outputs": [
        {
          "data": {
            "text/plain": [
              "Tweets_Cleaned    4\n",
              "label             0\n",
              "dtype: int64"
            ]
          },
          "execution_count": 46,
          "metadata": {},
          "output_type": "execute_result"
        }
      ],
      "source": [
        "df_train.isnull().sum()"
      ]
    },
    {
      "cell_type": "code",
      "execution_count": null,
      "metadata": {
        "id": "GA6mWQ-aurhm",
        "outputId": "45bb6c0b-6cfd-4a8d-9337-2c2217b16f1d"
      },
      "outputs": [
        {
          "data": {
            "text/plain": [
              "Tweets_Cleaned    0\n",
              "label             0\n",
              "dtype: int64"
            ]
          },
          "execution_count": 47,
          "metadata": {},
          "output_type": "execute_result"
        }
      ],
      "source": [
        "df_test.isnull().sum()"
      ]
    },
    {
      "cell_type": "code",
      "execution_count": null,
      "metadata": {
        "id": "h58UwrE0urhm"
      },
      "outputs": [],
      "source": [
        "# Remove rows with empty 'Tweets_Cleaned' in train set\n",
        "df_train = df_train.dropna(subset=['Tweets_Cleaned'])"
      ]
    },
    {
      "cell_type": "markdown",
      "metadata": {
        "id": "djXATpGFurhm"
      },
      "source": [
        "###**Step 2: Feature Extraction**"
      ]
    },
    {
      "cell_type": "markdown",
      "metadata": {
        "id": "LCZxj-1murhm"
      },
      "source": [
        "**Examining Common Sarcastic Words And Emojis:**"
      ]
    },
    {
      "cell_type": "code",
      "execution_count": null,
      "metadata": {
        "id": "t4touOjgurhn",
        "outputId": "0dda5cb7-fa29-43b6-c1c2-4c93d48a1dbc"
      },
      "outputs": [
        {
          "name": "stdout",
          "output_type": "stream",
          "text": [
            "Top 10 words in sarcastic tweets:\n",
            "[('?', 210), ('!', 174), ('im', 109), ('love', 84), ('day', 73), ('like', 69), ('get', 62), ('time', 52), ('one', 44), ('dont', 43)]\n"
          ]
        }
      ],
      "source": [
        "# Extracting top 10 words in sarcastic tweets from the training set\n",
        "sarcastic_tweets = df_train[df_train['label'] == 1]['Tweets_Cleaned']\n",
        "sarcastic_words = ' '.join(sarcastic_tweets).split()\n",
        "sarcastic_word_counts = Counter(sarcastic_words)\n",
        "print(\"Top 10 words in sarcastic tweets:\")\n",
        "print(sarcastic_word_counts.most_common(10))"
      ]
    },
    {
      "cell_type": "code",
      "execution_count": null,
      "metadata": {
        "id": "0wwJx-jJurhn",
        "outputId": "24add865-1a21-4320-b612-d13d3cf69fb9"
      },
      "outputs": [
        {
          "name": "stdout",
          "output_type": "stream",
          "text": [
            "Most common emojis in sarcastic tweets:\n",
            "[('🙃', 22), ('🙄', 17), ('🏻', 16), ('😂', 14), ('🥰', 12), ('❤', 12), ('😩', 11), ('✨', 11), ('😍', 8), ('💕', 8)]\n"
          ]
        }
      ],
      "source": [
        "# Extracting top 10 emojis in sarcastic tweets from the training set\n",
        "sarcastic_tweets = df_train[df_train['label'] == 1]['Tweets_Cleaned']\n",
        "sarcastic_emojis = [char for char in ' '.join(sarcastic_tweets) if char in emoji.EMOJI_DATA]\n",
        "sarcastic_emoji_counts = Counter(sarcastic_emojis)\n",
        "print(\"Most common emojis in sarcastic tweets:\")\n",
        "print(sarcastic_emoji_counts.most_common(10))"
      ]
    },
    {
      "cell_type": "code",
      "execution_count": null,
      "metadata": {
        "id": "5VqgJCSvurhn",
        "outputId": "d63aff3e-19de-4c4d-980f-b49d52f4c701"
      },
      "outputs": [
        {
          "name": "stdout",
          "output_type": "stream",
          "text": [
            "Most common emojis in non-sarcastic tweets:\n",
            "[('😭', 55), ('😂', 34), ('❤', 33), ('🥺', 32), ('😍', 24), ('😩', 20), ('🏼', 19), ('🏻', 19), ('👏', 17), ('🙃', 16)]\n"
          ]
        }
      ],
      "source": [
        "# Extracting top 10 emojis in non-sarcastic tweets from the training set\n",
        "non_sarcastic_tweets = df_train[df_train['label'] == 0]['Tweets_Cleaned']\n",
        "non_sarcastic_emojis = [char for char in ' '.join(non_sarcastic_tweets) if char in emoji.EMOJI_DATA]\n",
        "non_sarcastic_emoji_counts = Counter(non_sarcastic_emojis)\n",
        "print(\"Most common emojis in non-sarcastic tweets:\")\n",
        "print(non_sarcastic_emoji_counts.most_common(10))"
      ]
    },
    {
      "cell_type": "markdown",
      "metadata": {
        "id": "PfHqyHUiurhn"
      },
      "source": [
        "**Function To Extract Features**"
      ]
    },
    {
      "cell_type": "markdown",
      "metadata": {
        "id": "nSqm73qhurhn"
      },
      "source": [
        "- Vectorizing using Bag of Words\n",
        "- Extracting exclamation marks and question marks\n",
        "- Extracting capitalized words\n",
        "- Extracting common sarcastic words\n",
        "- Extracting common sarcastic emojis"
      ]
    },
    {
      "cell_type": "code",
      "execution_count": null,
      "metadata": {
        "id": "zhZMEQSYurhn"
      },
      "outputs": [],
      "source": [
        "# Function to extract features from the cleaned text\n",
        "def extract_features(df, count_vectorizer=None):\n",
        "    if count_vectorizer is None:\n",
        "        count_vectorizer = CountVectorizer(max_features=1000, stop_words=stopwords.words('english'))\n",
        "        bow_features = count_vectorizer.fit_transform(df['Tweets_Cleaned']).toarray()\n",
        "    else:\n",
        "        bow_features = count_vectorizer.transform(df['Tweets_Cleaned']).toarray()\n",
        "\n",
        "    # Sarcasm-indicative words (including punctuation) and emojis\n",
        "    sarcasm_words = ['!', '?', 'love', 'day', 'like', 'time', 'dont']\n",
        "    sarcasm_emojis = ['🙃', '🙄', '🏻', '😂', '🥰', '✨', ]\n",
        "\n",
        "    # Extract capitalization features\n",
        "    df['capital_words'] = df['Tweets_Cleaned'].apply(lambda x: sum(1 for word in x.split() if word.isupper()))\n",
        "\n",
        "    # Count sarcasm words and emojis\n",
        "    def count_sarcasm_words(text):\n",
        "        return sum(1 for word in text.split() if word.lower() in sarcasm_words)\n",
        "\n",
        "    def count_sarcasm_emojis(text):\n",
        "        return sum(1 for char in text if char in sarcasm_emojis)\n",
        "\n",
        "    df['sarcasm_words_count'] = df['Tweets_Cleaned'].apply(count_sarcasm_words)\n",
        "    df['sarcasm_emojis_count'] = df['Tweets_Cleaned'].apply(count_sarcasm_emojis)\n",
        "\n",
        "    # Combine BOW features with capitalization and sarcasm features\n",
        "    combined_features = pd.concat([\n",
        "        pd.DataFrame(bow_features),\n",
        "        df[['capital_words', 'sarcasm_words_count', 'sarcasm_emojis_count']].reset_index(drop=True)], axis=1)\n",
        "\n",
        "    # Convert all column names to strings\n",
        "    combined_features.columns = combined_features.columns.astype(str)\n",
        "\n",
        "    return combined_features, count_vectorizer"
      ]
    },
    {
      "cell_type": "markdown",
      "metadata": {
        "id": "aN3gslzMurhn"
      },
      "source": [
        "###**Step 3: Build The Model**"
      ]
    },
    {
      "cell_type": "code",
      "execution_count": null,
      "metadata": {
        "id": "mMu8hnzFurhn",
        "outputId": "61a3e63b-1a4e-4b6e-bc09-bd0a340cde72"
      },
      "outputs": [
        {
          "data": {
            "text/html": [
              "<style>#sk-container-id-2 {color: black;}#sk-container-id-2 pre{padding: 0;}#sk-container-id-2 div.sk-toggleable {background-color: white;}#sk-container-id-2 label.sk-toggleable__label {cursor: pointer;display: block;width: 100%;margin-bottom: 0;padding: 0.3em;box-sizing: border-box;text-align: center;}#sk-container-id-2 label.sk-toggleable__label-arrow:before {content: \"▸\";float: left;margin-right: 0.25em;color: #696969;}#sk-container-id-2 label.sk-toggleable__label-arrow:hover:before {color: black;}#sk-container-id-2 div.sk-estimator:hover label.sk-toggleable__label-arrow:before {color: black;}#sk-container-id-2 div.sk-toggleable__content {max-height: 0;max-width: 0;overflow: hidden;text-align: left;background-color: #f0f8ff;}#sk-container-id-2 div.sk-toggleable__content pre {margin: 0.2em;color: black;border-radius: 0.25em;background-color: #f0f8ff;}#sk-container-id-2 input.sk-toggleable__control:checked~div.sk-toggleable__content {max-height: 200px;max-width: 100%;overflow: auto;}#sk-container-id-2 input.sk-toggleable__control:checked~label.sk-toggleable__label-arrow:before {content: \"▾\";}#sk-container-id-2 div.sk-estimator input.sk-toggleable__control:checked~label.sk-toggleable__label {background-color: #d4ebff;}#sk-container-id-2 div.sk-label input.sk-toggleable__control:checked~label.sk-toggleable__label {background-color: #d4ebff;}#sk-container-id-2 input.sk-hidden--visually {border: 0;clip: rect(1px 1px 1px 1px);clip: rect(1px, 1px, 1px, 1px);height: 1px;margin: -1px;overflow: hidden;padding: 0;position: absolute;width: 1px;}#sk-container-id-2 div.sk-estimator {font-family: monospace;background-color: #f0f8ff;border: 1px dotted black;border-radius: 0.25em;box-sizing: border-box;margin-bottom: 0.5em;}#sk-container-id-2 div.sk-estimator:hover {background-color: #d4ebff;}#sk-container-id-2 div.sk-parallel-item::after {content: \"\";width: 100%;border-bottom: 1px solid gray;flex-grow: 1;}#sk-container-id-2 div.sk-label:hover label.sk-toggleable__label {background-color: #d4ebff;}#sk-container-id-2 div.sk-serial::before {content: \"\";position: absolute;border-left: 1px solid gray;box-sizing: border-box;top: 0;bottom: 0;left: 50%;z-index: 0;}#sk-container-id-2 div.sk-serial {display: flex;flex-direction: column;align-items: center;background-color: white;padding-right: 0.2em;padding-left: 0.2em;position: relative;}#sk-container-id-2 div.sk-item {position: relative;z-index: 1;}#sk-container-id-2 div.sk-parallel {display: flex;align-items: stretch;justify-content: center;background-color: white;position: relative;}#sk-container-id-2 div.sk-item::before, #sk-container-id-2 div.sk-parallel-item::before {content: \"\";position: absolute;border-left: 1px solid gray;box-sizing: border-box;top: 0;bottom: 0;left: 50%;z-index: -1;}#sk-container-id-2 div.sk-parallel-item {display: flex;flex-direction: column;z-index: 1;position: relative;background-color: white;}#sk-container-id-2 div.sk-parallel-item:first-child::after {align-self: flex-end;width: 50%;}#sk-container-id-2 div.sk-parallel-item:last-child::after {align-self: flex-start;width: 50%;}#sk-container-id-2 div.sk-parallel-item:only-child::after {width: 0;}#sk-container-id-2 div.sk-dashed-wrapped {border: 1px dashed gray;margin: 0 0.4em 0.5em 0.4em;box-sizing: border-box;padding-bottom: 0.4em;background-color: white;}#sk-container-id-2 div.sk-label label {font-family: monospace;font-weight: bold;display: inline-block;line-height: 1.2em;}#sk-container-id-2 div.sk-label-container {text-align: center;}#sk-container-id-2 div.sk-container {/* jupyter's `normalize.less` sets `[hidden] { display: none; }` but bootstrap.min.css set `[hidden] { display: none !important; }` so we also need the `!important` here to be able to override the default hidden behavior on the sphinx rendered scikit-learn.org. See: https://github.com/scikit-learn/scikit-learn/issues/21755 */display: inline-block !important;position: relative;}#sk-container-id-2 div.sk-text-repr-fallback {display: none;}</style><div id=\"sk-container-id-2\" class=\"sk-top-container\"><div class=\"sk-text-repr-fallback\"><pre>SVC(kernel=&#x27;linear&#x27;, random_state=42)</pre><b>In a Jupyter environment, please rerun this cell to show the HTML representation or trust the notebook. <br />On GitHub, the HTML representation is unable to render, please try loading this page with nbviewer.org.</b></div><div class=\"sk-container\" hidden><div class=\"sk-item\"><div class=\"sk-estimator sk-toggleable\"><input class=\"sk-toggleable__control sk-hidden--visually\" id=\"sk-estimator-id-2\" type=\"checkbox\" checked><label for=\"sk-estimator-id-2\" class=\"sk-toggleable__label sk-toggleable__label-arrow\">SVC</label><div class=\"sk-toggleable__content\"><pre>SVC(kernel=&#x27;linear&#x27;, random_state=42)</pre></div></div></div></div></div>"
            ],
            "text/plain": [
              "SVC(kernel='linear', random_state=42)"
            ]
          },
          "execution_count": 53,
          "metadata": {},
          "output_type": "execute_result"
        }
      ],
      "source": [
        "# Extract features from training dataset\n",
        "X_train, count_vectorizer = extract_features(df_train)\n",
        "y_train = df_train['label']\n",
        "\n",
        "# Extract features from testing dataset using the same CountVectorizer\n",
        "X_test, _ = extract_features(df_test, count_vectorizer)\n",
        "y_test = df_test['label']\n",
        "\n",
        "# Train the SVM model\n",
        "svm_model = SVC(kernel='linear', random_state=42)\n",
        "svm_model.fit(X_train, y_train)"
      ]
    },
    {
      "cell_type": "markdown",
      "metadata": {
        "id": "tVvORjf-urho"
      },
      "source": [
        "**Predict On Training Data:**"
      ]
    },
    {
      "cell_type": "code",
      "execution_count": null,
      "metadata": {
        "id": "XFuVeVLZurho",
        "outputId": "2021df07-4505-47fb-cb26-98fc2847354d"
      },
      "outputs": [
        {
          "name": "stdout",
          "output_type": "stream",
          "text": [
            "Training Data:\n",
            "              precision    recall  f1-score   support\n",
            "\n",
            "           0       0.84      0.97      0.90      2597\n",
            "           1       0.84      0.44      0.58       867\n",
            "\n",
            "    accuracy                           0.84      3464\n",
            "   macro avg       0.84      0.71      0.74      3464\n",
            "weighted avg       0.84      0.84      0.82      3464\n",
            "\n"
          ]
        },
        {
          "data": {
            "image/png": "[encoded data removed]",
            "text/plain": [
              "<Figure size 640x480 with 2 Axes>"
            ]
          },
          "metadata": {},
          "output_type": "display_data"
        }
      ],
      "source": [
        "y_train_pred = svm_model.predict(X_train)\n",
        "\n",
        "# Classification report\n",
        "print(\"Training Data:\")\n",
        "print(classification_report(y_train, y_train_pred))\n",
        "\n",
        "# Confusion matrix\n",
        "cm_train = confusion_matrix(y_train, y_train_pred)\n",
        "sns.heatmap(cm_train, annot=True, fmt='d', cmap='Blues')\n",
        "plt.xlabel('Predicted')\n",
        "plt.ylabel('Actual')\n",
        "plt.title('Confusion Matrix (Training Data)')\n",
        "plt.show()"
      ]
    },
    {
      "cell_type": "markdown",
      "metadata": {
        "id": "ghYCxVAQurho"
      },
      "source": [
        "**Predict On Test Data:**"
      ]
    },
    {
      "cell_type": "code",
      "execution_count": null,
      "metadata": {
        "id": "KIrI86vFurho",
        "outputId": "1fc02427-be0b-41f3-bf10-c11a65204042"
      },
      "outputs": [
        {
          "name": "stdout",
          "output_type": "stream",
          "text": [
            "Test Data:\n",
            "              precision    recall  f1-score   support\n",
            "\n",
            "           0       0.89      0.90      0.89      1200\n",
            "           1       0.35      0.33      0.34       200\n",
            "\n",
            "    accuracy                           0.82      1400\n",
            "   macro avg       0.62      0.61      0.62      1400\n",
            "weighted avg       0.81      0.82      0.82      1400\n",
            "\n"
          ]
        },
        {
          "data": {
            "image/png": "[encoded data removed]",
            "text/plain": [
              "<Figure size 640x480 with 2 Axes>"
            ]
          },
          "metadata": {},
          "output_type": "display_data"
        }
      ],
      "source": [
        "y_test_pred = svm_model.predict(X_test)\n",
        "\n",
        "# Classification report\n",
        "print(\"Test Data:\")\n",
        "print(classification_report(y_test, y_test_pred))\n",
        "\n",
        "# Confusion matrix\n",
        "cm_test = confusion_matrix(y_test, y_test_pred)\n",
        "sns.heatmap(cm_test, annot=True, fmt='d', cmap='Blues')\n",
        "plt.xlabel('Predicted')\n",
        "plt.ylabel('Actual')\n",
        "plt.title('Confusion Matrix (Test Data)')\n",
        "plt.show()"
      ]
    },
    {
      "cell_type": "markdown",
      "metadata": {
        "id": "5AFUuS1Gurho"
      },
      "source": [
        "**Investigate Correct And Incorrect Predictions:**"
      ]
    },
    {
      "cell_type": "code",
      "execution_count": null,
      "metadata": {
        "id": "9vqSgPflurho",
        "outputId": "2a15a406-0c3a-4cf3-f688-e5704e7c28c7"
      },
      "outputs": [
        {
          "name": "stdout",
          "output_type": "stream",
          "text": [
            "\n",
            "Some Correct Predictions:\n",
            "                                      Tweets_Cleaned  label  predicted\n",
            "0  size toulouse team pack monstrous cant see wel...      0          0\n",
            "1                                          pinball !      0          0\n",
            "2  scottish government want people get booster sh...      1          1\n",
            "5  there one fictional place could go christmas h...      0          0\n",
            "6  mean great cause theyre new xmas music thats w...      0          0\n",
            "\n",
            "Some Incorrect Predictions:\n",
            "                                       Tweets_Cleaned  label  predicted\n",
            "3   villainous pro tip change device name bluetoot...      0          1\n",
            "4                                    would date men 🥺      0          1\n",
            "9   sometimes lay bed think today day make life be...      1          0\n",
            "10                      surprise ! kat PR queen 👑💕🌟👏🏻      0          1\n",
            "13  wow chelsea bean beaten west ham day looking f...      0          1\n"
          ]
        }
      ],
      "source": [
        "# Extract correct and incorrect predictions\n",
        "df_test['predicted'] = y_test_pred\n",
        "df_test['correct'] = df_test['label'] == df_test['predicted']\n",
        "\n",
        "correct_predictions = df_test[df_test['correct']]\n",
        "incorrect_predictions = df_test[~df_test['correct']]\n",
        "\n",
        "# Display some correct and incorrect predictions\n",
        "print(\"\\nSome Correct Predictions:\")\n",
        "print(correct_predictions[['Tweets_Cleaned', 'label', 'predicted']].head())\n",
        "\n",
        "print(\"\\nSome Incorrect Predictions:\")\n",
        "print(incorrect_predictions[['Tweets_Cleaned', 'label', 'predicted']].head())"
      ]
    },
    {
      "cell_type": "markdown",
      "metadata": {
        "id": "_8iU2UAVurho"
      },
      "source": [
        "**Check Specific Tweets:**\n",
        "\n"
      ]
    },
    {
      "cell_type": "code",
      "execution_count": null,
      "metadata": {
        "id": "iQS3Rzviurho",
        "outputId": "65de07ab-b392-4097-e9a1-5966b0b732e2"
      },
      "outputs": [
        {
          "name": "stdout",
          "output_type": "stream",
          "text": [
            "Tweet: Biden is a great President like none other we have had\n",
            "Predicted: Non-Sarcastic\n"
          ]
        }
      ],
      "source": [
        "tweet = \"Biden is a great President like none other we have had\"\n",
        "tweet_cleaned = preprocess_text(tweet)\n",
        "tweet_features = extract_features(pd.DataFrame({'Tweets_Cleaned': [tweet_cleaned]}), count_vectorizer)[0]\n",
        "tweet_prediction = svm_model.predict(tweet_features)\n",
        "print(f\"Tweet: {tweet}\")\n",
        "print(f\"Predicted: {'Sarcastic' if tweet_prediction == 1 else 'Non-Sarcastic'}\")"
      ]
    },
    {
      "cell_type": "code",
      "execution_count": null,
      "metadata": {
        "id": "brTrC8z5urho",
        "outputId": "6c50597b-9943-44c7-9aed-b69d80462cf3"
      },
      "outputs": [
        {
          "name": "stdout",
          "output_type": "stream",
          "text": [
            "Tweet: Max Verstappen is such a clean driver, he never makes dirty moves when racing.\n",
            "Predicted: Non-Sarcastic\n"
          ]
        }
      ],
      "source": [
        "tweet = \"Max Verstappen is such a clean driver, he never makes dirty moves when racing.\"\n",
        "tweet_cleaned = preprocess_text(tweet)\n",
        "tweet_features = extract_features(pd.DataFrame({'Tweets_Cleaned': [tweet_cleaned]}), count_vectorizer)[0]\n",
        "tweet_prediction = svm_model.predict(tweet_features)\n",
        "print(f\"Tweet: {tweet}\")\n",
        "print(f\"Predicted: {'Sarcastic' if tweet_prediction == 1 else 'Non-Sarcastic'}\")"
      ]
    },
    {
      "cell_type": "code",
      "execution_count": null,
      "metadata": {
        "id": "oEbF8oo5urho",
        "outputId": "6eca5a2e-cd7c-4dfe-ef62-71dce56f5510"
      },
      "outputs": [
        {
          "name": "stdout",
          "output_type": "stream",
          "text": [
            "Tweet: I just can’t wait to spend time with my family over Christmas! I just love being the only single one and the many many questions asking when will I get a boyfriend 🙄\n",
            "Predicted: Sarcastic\n"
          ]
        }
      ],
      "source": [
        "tweet = \"I just can’t wait to spend time with my family over Christmas! I just love being the only single one and the many many questions asking when will I get a boyfriend 🙄\"\n",
        "tweet_cleaned = preprocess_text(tweet)\n",
        "tweet_features = extract_features(pd.DataFrame({'Tweets_Cleaned': [tweet_cleaned]}), count_vectorizer)[0]\n",
        "tweet_prediction = svm_model.predict(tweet_features)\n",
        "print(f\"Tweet: {tweet}\")\n",
        "print(f\"Predicted: {'Sarcastic' if tweet_prediction == 1 else 'Non-Sarcastic'}\")"
      ]
    },
    {
      "cell_type": "code",
      "execution_count": null,
      "metadata": {
        "id": "K4vVKRklurho",
        "outputId": "ca54c58b-05ed-481c-ce67-fcfdd0f49378"
      },
      "outputs": [
        {
          "name": "stdout",
          "output_type": "stream",
          "text": [
            "Tweet: Well this is awesome news to wake up to!\n",
            "Predicted: Sarcastic\n"
          ]
        }
      ],
      "source": [
        "tweet = \"Well this is awesome news to wake up to!\"\n",
        "tweet_cleaned = preprocess_text(tweet)\n",
        "tweet_features = extract_features(pd.DataFrame({'Tweets_Cleaned': [tweet_cleaned]}), count_vectorizer)[0]\n",
        "tweet_prediction = svm_model.predict(tweet_features)\n",
        "print(f\"Tweet: {tweet}\")\n",
        "print(f\"Predicted: {'Sarcastic' if tweet_prediction == 1 else 'Non-Sarcastic'}\")"
      ]
    },
    {
      "cell_type": "code",
      "execution_count": null,
      "metadata": {
        "id": "PuPPrCljurhp",
        "outputId": "6d1a931e-4a0f-4fed-f8ab-a25780a2c318"
      },
      "outputs": [
        {
          "name": "stdout",
          "output_type": "stream",
          "text": [
            "Tweet: So school have sent out a really helpful newsletter with all key dates and activities. So many fun things arranged for the children.\n",
            "Predicted: Sarcastic\n"
          ]
        }
      ],
      "source": [
        "tweet = \"So school have sent out a really helpful newsletter with all key dates and activities. So many fun things arranged for the children.\"\n",
        "tweet_cleaned = preprocess_text(tweet)\n",
        "tweet_features = extract_features(pd.DataFrame({'Tweets_Cleaned': [tweet_cleaned]}), count_vectorizer)[0]\n",
        "tweet_prediction = svm_model.predict(tweet_features)\n",
        "print(f\"Tweet: {tweet}\")\n",
        "print(f\"Predicted: {'Sarcastic' if tweet_prediction == 1 else 'Non-Sarcastic'}\")"
      ]
    },
    {
      "cell_type": "code",
      "execution_count": null,
      "metadata": {
        "id": "xnyWtFXCurhp",
        "outputId": "e0ba6dfd-572e-4517-d0e5-6f8d766f31ea"
      },
      "outputs": [
        {
          "name": "stdout",
          "output_type": "stream",
          "text": [
            "Tweet: I just love the smell of one million 😍\n",
            "Predicted: Non-Sarcastic\n"
          ]
        }
      ],
      "source": [
        "tweet = \"I just love the smell of one million 😍\"\n",
        "tweet_cleaned = preprocess_text(tweet)\n",
        "tweet_features = extract_features(pd.DataFrame({'Tweets_Cleaned': [tweet_cleaned]}), count_vectorizer)[0]\n",
        "tweet_prediction = svm_model.predict(tweet_features)\n",
        "print(f\"Tweet: {tweet}\")\n",
        "print(f\"Predicted: {'Sarcastic' if tweet_prediction == 1 else 'Non-Sarcastic'}\")"
      ]
    }
  ],
  "metadata": {
    "kernelspec": {
      "display_name": "Python 3",
      "language": "python",
      "name": "python3"
    },
    "language_info": {
      "codemirror_mode": {
        "name": "ipython",
        "version": 3
      },
      "file_extension": ".py",
      "mimetype": "text/x-python",
      "name": "python",
      "nbconvert_exporter": "python",
      "pygments_lexer": "ipython3",
      "version": "3.8.5"
    },
    "colab": {
      "provenance": []
    }
  },
  "nbformat": 4,
  "nbformat_minor": 0
}